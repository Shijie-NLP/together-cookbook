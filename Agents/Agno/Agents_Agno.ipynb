{
 "cells": [
  {
   "cell_type": "markdown",
   "metadata": {},
   "source": [
    "# Agno Agents with Together AI\n",
    "\n",
    "[![Open In Colab](https://colab.research.google.com/assets/colab-badge.svg)](https://colab.research.google.com/github/togethercomputer/together-cookbook/blob/main/Agents/Agno/Agents_Agno.ipynb)\n",
    "\n",
    "<img src=\"../../images/Agno.png\" width=\"700\">"
   ]
  },
  {
   "cell_type": "markdown",
   "metadata": {},
   "source": [
    "## Introduction\n",
    "\n",
    "Agno is a framework for building AI agents that can use tools, access knowledge bases, and work together in teams. This notebook demonstrates how to use Agno with Together AI's language models to create powerful AI applications with different capabilities.\n",
    "\n",
    "In this notebook, we'll explore:\n",
    "1. Setting up a simple agent with web search capability\n",
    "2. Creating an agent with a knowledge base for specialized domains\n",
    "3. Building multi-agent systems where specialized agents work together"
   ]
  },
  {
   "cell_type": "markdown",
   "metadata": {},
   "source": [
    "## Install required packages for this notebook\n",
    "- agno: The agent framework we'll be using\n",
    "- duckduckgo-search: For web search capabilities\n",
    "- pypdf: For processing PDF documents  \n",
    "- lancedb and tantivy: For vector storage\n",
    "- yfinance: For financial data retrieval"
   ]
  },
  {
   "cell_type": "code",
   "execution_count": 3,
   "metadata": {},
   "outputs": [
    {
     "name": "stdout",
     "output_type": "stream",
     "text": [
      "\u001b[31mERROR: pip's dependency resolver does not currently take into account all the packages that are installed. This behaviour is the source of the following dependency conflicts.\n",
      "dspy 2.6.10 requires datasets<3.0.0,>=2.14.6, but you have datasets 3.5.0 which is incompatible.\u001b[0m\u001b[31m\n",
      "\u001b[0m"
     ]
    }
   ],
   "source": [
    "!pip install -qU agno duckduckgo-search pypdf lancedb tantivy yfinance openai"
   ]
  },
  {
   "cell_type": "markdown",
   "metadata": {},
   "source": [
    "## Simple Agent\n",
    "\n",
    "Below we create a basic agent that can search the web to answer questions. This agent uses:\n",
    "- The Meta-Llama-3.1-8B-Instruct-Turbo\n",
    "- DuckDuckGo search as a tool to retrieve information from the web\n",
    "\n",
    "When we run this agent with a question about the NBA, it will search for recent information and provide an answer."
   ]
  },
  {
   "cell_type": "code",
   "execution_count": 10,
   "metadata": {},
   "outputs": [
    {
     "data": {
      "application/vnd.jupyter.widget-view+json": {
       "model_id": "c71c47dbfca54d83a05577e96e54442d",
       "version_major": 2,
       "version_minor": 0
      },
      "text/plain": [
       "Output()"
      ]
     },
     "metadata": {},
     "output_type": "display_data"
    },
    {
     "data": {
      "text/html": [
       "<pre style=\"white-space:pre;overflow-x:auto;line-height:normal;font-family:Menlo,'DejaVu Sans Mono',consolas,'Courier New',monospace\"></pre>\n"
      ],
      "text/plain": []
     },
     "metadata": {},
     "output_type": "display_data"
    }
   ],
   "source": [
    "from agno.agent import Agent\n",
    "from agno.models.together import Together\n",
    "from agno.tools.duckduckgo import DuckDuckGoTools\n",
    "\n",
    "agent = Agent(\n",
    "    model=Together(id=\"meta-llama/Meta-Llama-3.1-8B-Instruct-Turbo\", max_tokens=4096),\n",
    "    tools=[DuckDuckGoTools()],\n",
    "    markdown=True\n",
    ")\n",
    "agent.print_response(\"How are the golden state warriors doing this 2024-2025 season?\", stream=True)"
   ]
  },
  {
   "cell_type": "markdown",
   "metadata": {},
   "source": [
    "# Agent with Knowledge Base\n",
    "\n",
    "This example demonstrates how to create an agent with specialized knowledge. We'll build a Thai cuisine expert by:\n",
    "1. Loading a PDF containing Thai recipes into a knowledge base\n",
    "2. Setting up a vector database to store and retrieve this information efficiently\n",
    "3. Configuring the agent to prioritize its knowledge base while still being able to search the web\n",
    "\n",
    "This type of agent is ideal for specialized domains where you want to combine proprietary knowledge with the ability to find supplementary information."
   ]
  },
  {
   "cell_type": "code",
   "execution_count": 13,
   "metadata": {},
   "outputs": [
    {
     "data": {
      "text/html": [
       "<pre style=\"white-space:pre;overflow-x:auto;line-height:normal;font-family:Menlo,'DejaVu Sans Mono',consolas,'Courier New',monospace\"><span style=\"color: #000080; text-decoration-color: #000080\">INFO</span> Loading knowledge base                                                                                        \n",
       "</pre>\n"
      ],
      "text/plain": [
       "\u001b[34mINFO\u001b[0m Loading knowledge base                                                                                        \n"
      ]
     },
     "metadata": {},
     "output_type": "display_data"
    },
    {
     "data": {
      "text/html": [
       "<pre style=\"white-space:pre;overflow-x:auto;line-height:normal;font-family:Menlo,'DejaVu Sans Mono',consolas,'Courier New',monospace\"><span style=\"color: #000080; text-decoration-color: #000080\">INFO</span> Reading: <span style=\"color: #0000ff; text-decoration-color: #0000ff; text-decoration: underline\">https://agno-public.s3.amazonaws.com/recipes/ThaiRecipes.pdf</span>                                         \n",
       "</pre>\n"
      ],
      "text/plain": [
       "\u001b[34mINFO\u001b[0m Reading: \u001b[4;94mhttps://agno-public.s3.amazonaws.com/recipes/ThaiRecipes.pdf\u001b[0m                                         \n"
      ]
     },
     "metadata": {},
     "output_type": "display_data"
    },
    {
     "data": {
      "text/html": [
       "<pre style=\"white-space:pre;overflow-x:auto;line-height:normal;font-family:Menlo,'DejaVu Sans Mono',consolas,'Courier New',monospace\"><span style=\"color: #000080; text-decoration-color: #000080\">INFO</span> No documents to insert                                                                                        \n",
       "</pre>\n"
      ],
      "text/plain": [
       "\u001b[34mINFO\u001b[0m No documents to insert                                                                                        \n"
      ]
     },
     "metadata": {},
     "output_type": "display_data"
    },
    {
     "data": {
      "text/html": [
       "<pre style=\"white-space:pre;overflow-x:auto;line-height:normal;font-family:Menlo,'DejaVu Sans Mono',consolas,'Courier New',monospace\"><span style=\"color: #000080; text-decoration-color: #000080\">INFO</span> Added <span style=\"color: #008080; text-decoration-color: #008080; font-weight: bold\">0</span> documents to knowledge base                                                                           \n",
       "</pre>\n"
      ],
      "text/plain": [
       "\u001b[34mINFO\u001b[0m Added \u001b[1;36m0\u001b[0m documents to knowledge base                                                                           \n"
      ]
     },
     "metadata": {},
     "output_type": "display_data"
    },
    {
     "data": {
      "application/vnd.jupyter.widget-view+json": {
       "model_id": "cb90a6135add42bbb3cb4cf8c117d866",
       "version_major": 2,
       "version_minor": 0
      },
      "text/plain": [
       "Output()"
      ]
     },
     "metadata": {},
     "output_type": "display_data"
    },
    {
     "data": {
      "text/html": [
       "<pre style=\"white-space:pre;overflow-x:auto;line-height:normal;font-family:Menlo,'DejaVu Sans Mono',consolas,'Courier New',monospace\"></pre>\n"
      ],
      "text/plain": []
     },
     "metadata": {},
     "output_type": "display_data"
    },
    {
     "data": {
      "application/vnd.jupyter.widget-view+json": {
       "model_id": "e068cd4537a147af8f23aeb5764b05d8",
       "version_major": 2,
       "version_minor": 0
      },
      "text/plain": [
       "Output()"
      ]
     },
     "metadata": {},
     "output_type": "display_data"
    },
    {
     "data": {
      "text/html": [
       "<pre style=\"white-space:pre;overflow-x:auto;line-height:normal;font-family:Menlo,'DejaVu Sans Mono',consolas,'Courier New',monospace\"></pre>\n"
      ],
      "text/plain": []
     },
     "metadata": {},
     "output_type": "display_data"
    }
   ],
   "source": [
    "# Import additional components for knowledge base functionality\n",
    "from agno.agent import Agent\n",
    "from agno.models.together import Together\n",
    "from agno.embedder.together import TogetherEmbedder\n",
    "from agno.tools.duckduckgo import DuckDuckGoTools\n",
    "from agno.knowledge.pdf_url import PDFUrlKnowledgeBase\n",
    "from agno.vectordb.lancedb import LanceDb, SearchType\n",
    "\n",
    "# Create an agent with a specialized knowledge base for Thai recipes\n",
    "agent = Agent(\n",
    "    # Use Together AI's Llama 3.1 model\n",
    "    model=Together(id=\"meta-llama/Meta-Llama-3.1-8B-Instruct-Turbo\", max_tokens=4096),\n",
    "    # Define the agent's role\n",
    "    description=\"You are a Thai cuisine expert!\",\n",
    "    # Give the agent specific instructions on how to use its knowledge\n",
    "    instructions=[\n",
    "        \"Search your knowledge base for Thai recipes.\",\n",
    "        \"If the question is better suited for the web, search the web to fill in gaps.\",\n",
    "        \"Prefer the information in your knowledge base over the web results.\"\n",
    "    ],\n",
    "    # Set up the knowledge base from a PDF URL\n",
    "    knowledge=PDFUrlKnowledgeBase(\n",
    "        urls=[\"https://agno-public.s3.amazonaws.com/recipes/ThaiRecipes.pdf\"],\n",
    "        # Configure the vector database for semantic search\n",
    "        vector_db=LanceDb(\n",
    "            uri=\"tmp/lancedb\",\n",
    "            table_name=\"recipes\",\n",
    "            search_type=SearchType.hybrid,  # Use hybrid search (keyword + semantic)\n",
    "            # Use Together AI's embedding model for vectorizing text\n",
    "            embedder=TogetherEmbedder(id=\"togethercomputer/m2-bert-80M-32k-retrieval\"),\n",
    "        ),\n",
    "    ),\n",
    "    # Add web search capability as a backup\n",
    "    tools=[DuckDuckGoTools()],\n",
    "    # Display tool usage in the output\n",
    "    show_tool_calls=True,\n",
    "    markdown=True\n",
    ")\n",
    "\n",
    "# Load the knowledge base (only needs to be done once)\n",
    "if agent.knowledge is not None:\n",
    "    agent.knowledge.load()\n",
    "\n",
    "agent.print_response(\"How do I make chicken and galangal in coconut milk soup\", stream=True)\n",
    "agent.print_response(\"What is the history of Thai curry?\", stream=True)"
   ]
  },
  {
   "cell_type": "markdown",
   "metadata": {},
   "source": [
    "# Multi-Agent System\n",
    "\n",
    "This example demonstrates how to create a team of specialized agents that work together. We'll build:\n",
    "1. A web search agent for finding general information\n",
    "2. A finance agent for retrieving financial data\n",
    "3. A coordinator agent that delegates tasks to the specialized agents\n",
    "\n",
    "This approach allows us to create more powerful systems by combining specialized capabilities."
   ]
  },
  {
   "cell_type": "code",
   "execution_count": 14,
   "metadata": {},
   "outputs": [
    {
     "data": {
      "application/vnd.jupyter.widget-view+json": {
       "model_id": "31e1b0ceee614756bbe4f84f7b6a9c78",
       "version_major": 2,
       "version_minor": 0
      },
      "text/plain": [
       "Output()"
      ]
     },
     "metadata": {},
     "output_type": "display_data"
    },
    {
     "data": {
      "text/html": [
       "<pre style=\"white-space:pre;overflow-x:auto;line-height:normal;font-family:Menlo,'DejaVu Sans Mono',consolas,'Courier New',monospace\"></pre>\n"
      ],
      "text/plain": []
     },
     "metadata": {},
     "output_type": "display_data"
    }
   ],
   "source": [
    "from agno.agent import Agent\n",
    "from agno.models.together import Together\n",
    "from agno.tools.duckduckgo import DuckDuckGoTools\n",
    "from agno.tools.yfinance import YFinanceTools\n",
    "\n",
    "# Create a specialized agent for web searches\n",
    "web_agent = Agent(\n",
    "    name=\"Web Agent\",\n",
    "    role=\"Search the web for information\",\n",
    "    # Using the larger Llama 3.3 (70B) model for better performance\n",
    "    model=Together(id=\"meta-llama/Llama-3.3-70B-Instruct-Turbo\", max_tokens=4096),\n",
    "    tools=[DuckDuckGoTools()],\n",
    "    instructions=\"Always include sources\",\n",
    "    show_tool_calls=True,\n",
    "    markdown=True,\n",
    ")\n",
    "\n",
    "# Create a specialized agent for financial data\n",
    "finance_agent = Agent(\n",
    "    name=\"Finance Agent\",\n",
    "    role=\"Get financial data\",\n",
    "    model=Together(id=\"meta-llama/Llama-3.3-70B-Instruct-Turbo\", max_tokens=4096),\n",
    "    # Financial tools for stock data, analyst recommendations, and company info\n",
    "    tools=[YFinanceTools(stock_price=True, analyst_recommendations=True, company_info=True)],\n",
    "    instructions=\"Use tables to display data\",\n",
    "    show_tool_calls=True,\n",
    "    markdown=True,\n",
    ")\n",
    "\n",
    "# Create a coordinator agent that manages the team\n",
    "agent_team = Agent(\n",
    "    # Provide the specialized agents as a team\n",
    "    team=[web_agent, finance_agent],\n",
    "    # The coordinator also uses a powerful model\n",
    "    model=Together(id=\"meta-llama/Llama-3.3-70B-Instruct-Turbo\", max_tokens=4096),\n",
    "    # Instructions for the final output\n",
    "    instructions=[\"Always include sources\", \"Use tables to display data\"],\n",
    "    show_tool_calls=True,\n",
    "    markdown=True,\n",
    ")\n",
    "\n",
    "agent_team.print_response(\"What's the market outlook and financial performance of AI semiconductor companies?\", stream=True)"
   ]
  },
  {
   "cell_type": "markdown",
   "metadata": {},
   "source": [
    "In this notebook, we've demonstrated three approaches to building AI agents with Agno and Together AI:\n",
    "\n",
    "1. **Simple Agent**: Quick to set up and useful for general tasks that require web search\n",
    "2. **Knowledge Base Agent**: Combines specialized knowledge with web search for domain-specific applications\n",
    "3. **Multi-Agent System**: Coordinates specialized agents for complex tasks requiring different capabilities\n",
    "\n",
    "These examples show the flexibility of the Agno framework for building various types of AI applications. You can extend these examples by:\n",
    "- Adding more tools to enhance capabilities\n",
    "- Building larger knowledge bases for deeper expertise\n",
    "- Creating more specialized agents for complex multi-agent systems"
   ]
  }
 ],
 "metadata": {
  "kernelspec": {
   "display_name": "cookbook",
   "language": "python",
   "name": "python3"
  },
  "language_info": {
   "codemirror_mode": {
    "name": "ipython",
    "version": 3
   },
   "file_extension": ".py",
   "mimetype": "text/x-python",
   "name": "python",
   "nbconvert_exporter": "python",
   "pygments_lexer": "ipython3",
   "version": "3.12.8"
  }
 },
 "nbformat": 4,
 "nbformat_minor": 2
}
