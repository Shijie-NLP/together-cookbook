{
 "cells": [
  {
   "cell_type": "markdown",
   "metadata": {},
   "source": [
    "# Mixture of Agents: Under the Hood\n",
    "\n",
    "[![Open In Colab](https://colab.research.google.com/assets/colab-badge.svg)](https://colab.research.google.com/github/togethercomputer/together-cookbook/blob/main/MoA_Under_The_Hood.ipynb)"
   ]
  },
  {
   "cell_type": "markdown",
   "metadata": {},
   "source": [
    "## Introduction\n",
    "\n",
    "In this notebook we will see how the [Mixture of Agents architechture](https://arxiv.org/abs/2406.04692) works under the hood. MoA is an innovative way to push open source models to achieve SoTA performance on complex reasoning tasks.\n",
    "\n",
    "In a MoA setup, instead of simply prompting a single LLM, we pass the same prompt to a setup of multiple hand-picked LLMs. Their responses are then aggregated and passed forward for refinement either by future layers of parallel reference LLMs or finally to an aggregator LLM that combines togehter the individual responses and composes a superior final output.\n",
    "\n",
    "In this notebook we will code up this architechture from scratch and examine the intermediate responses for a sample problem from the MATH dataset.\n",
    "\n",
    "We will also make the equivalent call using the new `MoA-1` endpoint.\n",
    "\n",
    "<img src=\"images/MoA_full.png\" width=\"750\">"
   ]
  },
  {
   "cell_type": "markdown",
   "metadata": {},
   "source": [
    "## Install Libraries"
   ]
  },
  {
   "cell_type": "code",
   "execution_count": 1,
   "metadata": {
    "id": "ePQxJ0xRcaA4"
   },
   "outputs": [],
   "source": [
    "!pip install -qU together"
   ]
  },
  {
   "cell_type": "markdown",
   "metadata": {},
   "source": [
    "## 2 Layer MoA Architechture\n",
    "\n",
    "To show a more concrete example - in this notebook we will implement one round of reference response generations by 4 LLMs and the 2nd layer will be an aggregator LLM.\n",
    "\n",
    "Where `LLM 1 = WizardLM 8x22B`, `LLM 2 = Qwen2.5 72B Instruct`, `LLM 3 = Gemma 2 27B`, `LLM 4 = LLaMA 3.3 70B Instruct`\n",
    "and the `Aggregator LLM = Qwen2.5 72B Instruct`\n",
    "\n",
    "<img src=\"images/MoA_small.png\" width=\"500\">"
   ]
  },
  {
   "cell_type": "code",
   "execution_count": null,
   "metadata": {},
   "outputs": [],
   "source": [
    "# Initialize connection to Together client\n",
    "\n",
    "import asyncio\n",
    "import os\n",
    "from together import AsyncTogether, Together\n",
    "\n",
    "client = Together(api_key= TOGETHERAI_API_KEY)\n",
    "async_client = AsyncTogether(api_key= TOGETHERAI_API_KEY)"
   ]
  },
  {
   "cell_type": "code",
   "execution_count": null,
   "metadata": {
    "id": "oD4WkfCSDrzC"
   },
   "outputs": [],
   "source": [
    "# Lets setup the MoA architechture with reference LLMs = WizardLM 8x22B, Qwen2.5 72B Instruct, Gemma 2 27B, LLaMA 3.3 70B Instruct\n",
    "\n",
    "reference_models = [\n",
    "    \"microsoft/WizardLM-2-8x22B\",\n",
    "    \"Qwen/Qwen2.5-72B-Instruct-Turbo\",\n",
    "    \"google/gemma-2-27b-it\",\n",
    "    \"meta-llama/Llama-3.3-70B-Instruct-Turbo\",\n",
    "]\n",
    "\n",
    "# This is a sample problem sourced from the MATH dataset: https://huggingface.co/datasets/lighteval/MATH?row=9\n",
    "user_prompt = \"\"\"Tim wants to invest some money in a bank which compounds quarterly\n",
    "with an annual interest rate of $7\\%$. To the nearest dollar, how much money should he\n",
    "invest if he wants a total of $\\$60,\\!000$ at the end of $5$ years?\"\"\"\n",
    "\n",
    "# The function below will call the reference LLMs in parallel\n",
    "async def run_llm(model):\n",
    "    \"\"\"Run a single LLM call with a reference model.\"\"\"\n",
    "    for sleep_time in [1, 2, 4]:\n",
    "        try:\n",
    "            response = await async_client.chat.completions.create(\n",
    "                model=model,\n",
    "                messages=[{\"role\": \"user\", \"content\": user_prompt}],\n",
    "                temperature=0.7,\n",
    "                max_tokens=512,\n",
    "            )\n",
    "            break\n",
    "        except together.error.RateLimitError as e:\n",
    "            print(e)\n",
    "            await asyncio.sleep(sleep_time)\n",
    "    return response.choices[0].message.content"
   ]
  },
  {
   "cell_type": "code",
   "execution_count": null,
   "metadata": {
    "id": "rXeTPbuja9B-"
   },
   "outputs": [],
   "source": [
    "# Generate intermediate reference responses\n",
    "results = await asyncio.gather(*[run_llm(model) for model in reference_models])"
   ]
  },
  {
   "cell_type": "code",
   "execution_count": 10,
   "metadata": {
    "colab": {
     "base_uri": "https://localhost:8080/"
    },
    "id": "AwJ6tqrOe9-w",
    "outputId": "c57c4fbb-d1da-4760-e93a-7367e93a16d2"
   },
   "outputs": [
    {
     "data": {
      "text/plain": [
       "4"
      ]
     },
     "execution_count": 10,
     "metadata": {},
     "output_type": "execute_result"
    }
   ],
   "source": [
    "len(results)"
   ]
  },
  {
   "cell_type": "markdown",
   "metadata": {},
   "source": [
    "## Let's Examine the Intermediate Responses\n",
    "\n",
    "Notice how some LLMs don't finish in the `max_tokens` limit, others get the answer incorrect."
   ]
  },
  {
   "cell_type": "code",
   "execution_count": 16,
   "metadata": {
    "colab": {
     "base_uri": "https://localhost:8080/"
    },
    "id": "1D0yjtTqhweN",
    "outputId": "bd7fa83e-b718-43ea-8b13-1e056191dfce"
   },
   "outputs": [
    {
     "name": "stdout",
     "output_type": "stream",
     "text": [
      " Let's think step by step.To solve this problem, we will use the formula for compound interest, which is:\n",
      "\n",
      "\\[ A = P \\left(1 + \\frac{r}{n}\\right)^{nt} \\]\n",
      "\n",
      "where:\n",
      "- \\( A \\) is the amount of money accumulated after \\( n \\) years, including interest.\n",
      "- \\( P \\) is the principal amount (the initial amount of money).\n",
      "- \\( r \\) is the annual interest rate (in decimal form).\n",
      "- \\( n \\) is the number of times that interest is compounded per year.\n",
      "- \\( t \\) is the time the money is invested for, in years.\n",
      "\n",
      "Given in the problem:\n",
      "- The final amount \\( A \\) that Tim wants is $60,000.\n",
      "- The annual interest rate \\( r \\) is 7%, which we convert to a decimal by dividing by 100, giving us 0.07.\n",
      "- The interest is compounded quarterly, so \\( n \\) is 4.\n",
      "- Tim wants the money after \\( t \\) = 5 years.\n",
      "\n",
      "We need to find the principal \\( P \\) that Tim should invest.\n",
      "\n",
      "Rearranging the compound interest formula to solve for \\( P \\), we get:\n",
      "\n",
      "\\[ P = \\frac{A}{\\left(1 + \\frac{r}{n}\\right)^{nt}} \\]\n",
      "\n",
      "Now, let's plug in the values:\n",
      "\n",
      "\\[ P = \\frac{60000}{\\left(1 + \\frac{0.07}{4}\\right)^{4 \\cdot 5}} \\]\n",
      "\n",
      "\\[ P = \\frac{60000}{\\left(1 + \\frac{0.07}{4}\\right)^{20}} \\]\n",
      "\n",
      "\\[ P = \\frac{60000}{\\left(1 + 0.0175\\right)^{20}} \\]\n",
      "\n",
      "\\[ P = \\frac{60000}{\\left(1.0175\\right)^{20}} \\]\n",
      "\n",
      "Now we calculate the value inside the parentheses and then raise it to the power of 20:\n",
      "\n",
      "\\[ P = \\frac{60000}{\\left(1.0175\\right)^{20}} \\]\n",
      "\n",
      "\\[ P = \\\n",
      "================================================================================\n",
      "To determine how much Tim should invest, we need to use the formula for the future value of an investment compounded quarterly. The formula is:\n",
      "\n",
      "\\[ A = P \\left(1 + \\frac{r}{n}\\right)^{nt} \\]\n",
      "\n",
      "where:\n",
      "- \\( A \\) is the amount of money accumulated after \\( t \\) years, including interest.\n",
      "- \\( P \\) is the principal amount (the initial amount of money).\n",
      "- \\( r \\) is the annual interest rate (decimal).\n",
      "- \\( n \\) is the number of times that interest is compounded per year.\n",
      "- \\( t \\) is the time the money is invested for in years.\n",
      "\n",
      "Given:\n",
      "- \\( A = 60000 \\)\n",
      "- \\( r = 0.07 \\)\n",
      "- \\( n = 4 \\) (since the interest is compounded quarterly)\n",
      "- \\( t = 5 \\)\n",
      "\n",
      "We need to find \\( P \\). Rearranging the formula to solve for \\( P \\), we get:\n",
      "\n",
      "\\[ P = \\frac{A}{\\left(1 + \\frac{r}{n}\\right)^{nt}} \\]\n",
      "\n",
      "Substituting the given values into the formula:\n",
      "\n",
      "\\[ P = \\frac{60000}{\\left(1 + \\frac{0.07}{4}\\right)^{4 \\times 5}} \\]\n",
      "\\[ P = \\frac{60000}{\\left(1 + 0.0175\\right)^{20}} \\]\n",
      "\\[ P = \\frac{60000}{(1.0175)^{20}} \\]\n",
      "\n",
      "Now, we need to calculate \\( (1.0175)^{20} \\):\n",
      "\n",
      "\\[ (1.0175)^{20} \\approx 1.414778 \\]\n",
      "\n",
      "So,\n",
      "\n",
      "\\[ P = \\frac{60000}{1.414778} \\approx 42411.50 \\]\n",
      "\n",
      "Rounding to the nearest dollar, we get:\n",
      "\n",
      "\\[ P \\approx 42412 \\]\n",
      "\n",
      "Therefore, Tim should invest \\(\\boxed{42412}\\) dollars.\n",
      "================================================================================\n",
      "Here's how to solve this problem:\n",
      "\n",
      "**Understanding Compound Interest**\n",
      "\n",
      "Compound interest means that interest is calculated not only on the principal (original amount invested) but also on the accumulated interest from previous periods.  \n",
      "\n",
      "**Formula**\n",
      "\n",
      "The formula for compound interest is:\n",
      "\n",
      "*A = P(1 + r/n)^(nt)*\n",
      "\n",
      "Where:\n",
      "\n",
      "* A = the future value of the investment/loan, including interest\n",
      "* P = the principal investment amount (the initial deposit or loan amount)\n",
      "* r = the annual interest rate (as a decimal)\n",
      "* n = the number of times that interest is compounded per year\n",
      "* t = the number of years the money is invested or borrowed for\n",
      "\n",
      "**Applying the Formula**\n",
      "\n",
      "1. **Identify the knowns:**\n",
      "\n",
      "   * A = $60,000 (desired amount)\n",
      "   * r = 0.07 (7% expressed as a decimal)\n",
      "   * n = 4 (compounded quarterly)\n",
      "   * t = 5 years\n",
      "\n",
      "2. **Substitute the values into the formula and solve for P:**\n",
      "\n",
      "   $60,000 = P(1 + 0.07/4)^(4*5)$\n",
      "\n",
      "3. **Simplify and solve for P:**\n",
      "\n",
      "   * $60,000 = P(1.0175)^20$\n",
      "   * $60,000 = P(1.4071)$\n",
      "   * $P = 60,000 / 1.4071$\n",
      "   * $P ≈ 42,639$\n",
      "\n",
      "\n",
      "\n",
      "**Answer:**\n",
      "\n",
      "To the nearest dollar, Tim should invest approximately **$42,639**.\n",
      "================================================================================\n",
      "## Step 1: Determine the formula for compound interest\n",
      "The formula for compound interest is given by $A = P \\left(1 + \\frac{r}{n}\\right)^{nt}$, where A is the amount of money accumulated after n years, including interest, P is the principal amount (the initial amount of money), r is the annual interest rate (in decimal), n is the number of times that interest is compounded per year, and t is the time the money is invested for in years.\n",
      "\n",
      "## Step 2: Identify the given variables\n",
      "We are given that A = $60,000, r = 7\\% or 0.07 as a decimal, n = 4 (since the interest is compounded quarterly), and t = 5 years.\n",
      "\n",
      "## Step 3: Plug in the given values into the formula\n",
      "Substituting the given values into the formula, we get $60,000 = P \\left(1 + \\frac{0.07}{4}\\right)^{4*5}$.\n",
      "\n",
      "## Step 4: Simplify the equation\n",
      "Simplifying the equation, we have $60,000 = P \\left(1 + 0.0175\\right)^{20}$, which further simplifies to $60,000 = P \\left(1.0175\\right)^{20}$.\n",
      "\n",
      "## Step 5: Calculate the value of $\\left(1.0175\\right)^{20}$\n",
      "Using a calculator, $\\left(1.0175\\right)^{20} \\approx 1.419067227$.\n",
      "\n",
      "## Step 6: Solve for P\n",
      "Now we solve for P: $P = \\frac{60,000}{1.419067227}$.\n",
      "\n",
      "## Step 7: Calculate the value of P\n",
      "Using a calculator, $P \\approx 42,409.47497$.\n",
      "\n",
      "## Step 8: Round the value of P to the nearest dollar\n",
      "Rounding to the nearest dollar, $P \\approx 42,409$.\n",
      "\n",
      "The final answer is: $\\boxed{42409}$\n",
      "================================================================================\n"
     ]
    }
   ],
   "source": [
    "for proposal in results:\n",
    "  print(proposal)\n",
    "  print(20*'====')"
   ]
  },
  {
   "cell_type": "markdown",
   "metadata": {},
   "source": [
    "## Aggregator Model\n",
    "\n",
    "Here we'll concatenate the proposed responses above into the aggregator system prompt and will prompt the aggregator accordingly "
   ]
  },
  {
   "cell_type": "code",
   "execution_count": null,
   "metadata": {
    "colab": {
     "base_uri": "https://localhost:8080/"
    },
    "id": "9nLKUUfpa_yh",
    "outputId": "624a1f5f-fb5b-40f7-ea57-44671b918c26"
   },
   "outputs": [
    {
     "name": "stdout",
     "output_type": "stream",
     "text": [
      "To determine how much Tim should invest to have a total of $60,000 at the end of 5 years with an annual interest rate of 7% compounded quarterly, we can use the compound interest formula:\n",
      "\n",
      "\\[ A = P \\left(1 + \\frac{r}{n}\\right)^{nt} \\]\n",
      "\n",
      "where:\n",
      "- \\( A \\) is the amount of money accumulated after \\( t \\) years, including interest.\n",
      "- \\( P \\) is the principal amount (the initial amount of money).\n",
      "- \\( r \\) is the annual interest rate (in decimal form).\n",
      "- \\( n \\) is the number of times that interest is compounded per year.\n",
      "- \\( t \\) is the time the money is invested for, in years.\n",
      "\n",
      "Given:\n",
      "- \\( A = 60,000 \\)\n",
      "- \\( r = 0.07 \\)\n",
      "- \\( n = 4 \\) (since the interest is compounded quarterly)\n",
      "- \\( t = 5 \\)\n",
      "\n",
      "We need to find \\( P \\). Rearranging the formula to solve for \\( P \\):\n",
      "\n",
      "\\[ P = \\frac{A}{\\left(1 + \\frac{r}{n}\\right)^{nt}} \\]\n",
      "\n",
      "Substituting the given values:\n",
      "\n",
      "\\[ P = \\frac{60,000}{\\left(1 + \\frac{0.07}{4}\\right)^{4 \\times 5}} \\]\n",
      "\\[ P = \\frac{60,000}{\\left(1 + 0.0175\\right)^{20}} \\]\n",
      "\\[ P = \\frac{60,000}{\\left(1.0175\\right)^{20}} \\]\n",
      "\n",
      "Now, we need to calculate \\( (1.0175)^{20} \\):\n",
      "\n",
      "\\[ (1.0175)^{20} \\approx 1.419067227 \\]\n",
      "\n",
      "So,\n",
      "\n",
      "\\[ P = \\frac{60,000}{1.419067227} \\approx 42,409.47497 \\]\n",
      "\n",
      "Rounding to the nearest dollar, we get:\n",
      "\n",
      "\\[ P \\approx 42,409 \\]\n",
      "\n",
      "Therefore, Tim should invest \\(\\boxed{42409}\\) dollars."
     ]
    }
   ],
   "source": [
    "aggregator_model = \"Qwen/Qwen2.5-72B-Instruct-Turbo\"\n",
    "\n",
    "aggregator_system_prompt = \"\"\"You have been provided with a set of responses from various open-source models to the latest user query.\n",
    "Your task is to synthesize these responses into a single, high-quality response. It is crucial to critically evaluate the information\n",
    "provided in these responses, recognizing that some of it may be biased or incorrect. Your response should not simply replicate the\n",
    "given answers but should offer a refined, accurate, and comprehensive reply to the instruction. Ensure your response is well-structured,\n",
    "coherent, and adheres to the highest standards of accuracy and reliability.\n",
    "\n",
    "Responses from models:\"\"\"\n",
    "\n",
    "final_stream = client.chat.completions.create(\n",
    "   model=aggregator_model,\n",
    "   messages=[\n",
    "       {\n",
    "           \"role\": \"system\",\n",
    "           \"content\": aggregator_system_prompt + \"\\n\" + \"\\n\".join(\n",
    "               f\"{i+1}. {str(element)}\" \n",
    "               for i, element in enumerate(results)\n",
    "           )\n",
    "       },\n",
    "       {\n",
    "           \"role\": \"user\",\n",
    "           \"content\": user_prompt\n",
    "       }\n",
    "   ],\n",
    "   stream=True\n",
    ")\n",
    "\n",
    "for chunk in final_stream:\n",
    "    print(chunk.choices[0].delta.content or \"\", end=\"\", flush=True)"
   ]
  },
  {
   "cell_type": "markdown",
   "metadata": {
    "id": "7Scg0g8if9ru"
   },
   "source": [
    "## Solution:\n",
    "\n",
    "Recall the formula $A=P\\left(1+\\frac{r}{n}\\right)^{nt}$, where $A$ is the end balance, $P$ is the principal, $r$ is the interest rate, $t$ is the number of years, and $n$ is the number of times the interest is compounded in a year. This formula represents the idea that the interest is compounded every $1/n$ years with the rate of $r/n$. Substituting the given information, we have \\[60,\\!000=P\\left(1+\\frac{0.07}{4}\\right)^{4 \\cdot 5}.\\]Solving for $P$ gives $P=42409.474...$, which rounded to the nearest dollar is $\\boxed{\\$42409}$."
   ]
  },
  {
   "cell_type": "markdown",
   "metadata": {},
   "source": [
    "## Using the MoA-1 Endpoint\n",
    "\n",
    "All of this functionality is what gets carried out behind the scenes when you call the MoA-1 endpoint!"
   ]
  },
  {
   "cell_type": "code",
   "execution_count": null,
   "metadata": {},
   "outputs": [
    {
     "name": "stdout",
     "output_type": "stream",
     "text": [
      "To determine how much money Tim should invest today to have a total of $60,000 at the end of 5 years with an annual interest rate of 7% compounded quarterly, we can use the formula for compound interest:\n",
      "\n",
      "\\[ A = P \\left(1 + \\frac{r}{n}\\right)^{nt} \\]\n",
      "\n",
      "where:\n",
      "- \\( A \\) is the amount of money accumulated after \\( t \\) years, including interest.\n",
      "- \\( P \\) is the principal amount (the initial amount of money).\n",
      "- \\( r \\) is the annual interest rate (decimal).\n",
      "- \\( n \\) is the number of times interest is compounded per year.\n",
      "- \\( t \\) is the time the money is invested for in years.\n",
      "\n",
      "Given:\n",
      "- \\( A = 60,000 \\)\n",
      "- \\( r = 0.07 \\)\n",
      "- \\( n = 4 \\) (since the interest is compounded quarterly)\n",
      "- \\( t = 5 \\)\n",
      "\n",
      "We need to solve for \\( P \\):\n",
      "\n",
      "\\[ 60,000 = P \\left(1 + \\frac{0.07}{4}\\right)^{4 \\times 5} \\]\n",
      "\n",
      "First, calculate the interest rate per quarter:\n",
      "\n",
      "\\[ \\frac{0.07}{4} = 0.0175 \\]\n",
      "\n",
      "Next, calculate the total number of compounding periods:\n",
      "\n",
      "\\[ 4 \\times 5 = 20 \\]\n",
      "\n",
      "Now, substitute these values into the formula:\n",
      "\n",
      "\\[ 60,000 = P \\left(1 + 0.0175\\right)^{20} \\]\n",
      "\\[ 60,000 = P \\left(1.0175\\right)^{20} \\]\n",
      "\n",
      "Calculate \\( (1.0175)^{20} \\):\n",
      "\n",
      "\\[ (1.0175)^{20} \\approx 1.414778 \\]\n",
      "\n",
      "Now, solve for \\( P \\):\n",
      "\n",
      "\\[ 60,000 = P \\times 1.414778 \\]\n",
      "\\[ P = \\frac{60,000}{1.414778} \\]\n",
      "\\[ P \\approx 42,415.86 \\]\n",
      "\n",
      "Rounding to the nearest dollar:\n",
      "\n",
      "\\[ P \\approx 42,416 \\]\n",
      "\n",
      "Therefore, Tim should invest approximately\n"
     ]
    }
   ],
   "source": [
    "import os\n",
    "from together import Together\n",
    "\n",
    "client = Together(api_key = \"40ff5b8f38f893ee042dd620227519e44ca29ac3bb671bc276161debfdaa9d76\")\n",
    "\n",
    "user_prompt = \"\"\"Tim wants to invest some money in a bank which compounds quarterly\n",
    "with an annual interest rate of $7\\%$. To the nearest dollar, how much money should he\n",
    "invest if he wants a total of $\\$60,\\!000$ at the end of $5$ years?\"\"\"\n",
    "\n",
    "response = client.chat.completions.create(\n",
    "    model=\"togethercomputer/MoA-1\",\n",
    "    messages=[\n",
    "        {\n",
    "            \"role\": \"user\",\n",
    "            \"content\": user_prompt,\n",
    "        }\n",
    "    ],\n",
    "    max_tokens=512,\n",
    "    temperature=0.7,\n",
    ")\n",
    "\n",
    "print(response.choices[0].message.content)"
   ]
  }
 ],
 "metadata": {
  "colab": {
   "provenance": []
  },
  "kernelspec": {
   "display_name": "Python 3",
   "name": "python3"
  },
  "language_info": {
   "name": "python"
  }
 },
 "nbformat": 4,
 "nbformat_minor": 0
}
