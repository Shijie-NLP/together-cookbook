{
 "cells": [
  {
   "cell_type": "code",
   "execution_count": null,
   "id": "e049e6ff-2710-425e-9c7c-e42fe0c04b57",
   "metadata": {},
   "outputs": [],
   "source": [
    "MODEL_NAME_FOR_INFERENCE=\"${zainhas/Meta-Llama-3.1-8B-Instruct-Reference-my-demo-finetune-4224205a}\"\n",
    "\n",
    "curl -X POST https://api.together.xyz/v1/completions \\\n",
    "  -H \"Authorization: Bearer $TOGETHER_API_KEY\" \\\n",
    "  -H \"Content-Type: application/json\" \\\n",
    "  -d '{\n",
    "    \"model\": \"'$MODEL_NAME_FOR_INFERENCE'\",\n",
    "    \"messages\": [\n",
    "      {\n",
    "        \"role\": \"user\",\n",
    "        \"content\": \"debate the pros and cons of AI\",\n",
    "      },\n",
    "    ],\n",
    "    \"max_tokens\": 128\n",
    "  }'"
   ]
  },
  {
   "cell_type": "code",
   "execution_count": null,
   "id": "d7822bc8-c7c6-47cf-a3d4-9b0823d30fce",
   "metadata": {},
   "outputs": [],
   "source": [
    "11d802b7e0038ef5c5cb7768d5e62e8416666a6e998361bba7a4db3031762f1c"
   ]
  },
  {
   "cell_type": "code",
   "execution_count": 5,
   "id": "f8020959-3615-4f20-8065-a185742db068",
   "metadata": {},
   "outputs": [
    {
     "name": "stdout",
     "output_type": "stream",
     "text": [
      "{'id': '8f2cb236c80ea20e-YYZ', 'object': 'text.completion', 'created': 1734331375, 'model': 'zainhas/Meta-Llama-3.1-8B-Instruct-Reference-my-demo-finetune-4224205a', 'prompt': [], 'choices': [{'text': \"Here's a debate on the pros and cons of AI:\\n\\n**Moderator:** Welcome to today's debate on the pros and cons of AI. We have two debaters, Alex and Ben, who will present their arguments on the topic. Alex will argue in favor of AI, while Ben will argue against it. Let's begin with opening statements.\\n\\n**Alex (In Favor of AI):** Thank you, Moderator. AI has revolutionized the way we live and work. It has improved efficiency, productivity, and accuracy in various industries, such as healthcare, finance, and transportation. AI-powered systems can analyze vast amounts of data, identify\", 'finish_reason': 'length', 'seed': 5626645655383684000, 'logprobs': None, 'index': 0}], 'usage': {'prompt_tokens': 18, 'completion_tokens': 128, 'total_tokens': 146, 'cache_hit_rate': 0}}\n"
     ]
    }
   ],
   "source": [
    "import requests\n",
    "\n",
    "api_key = \"11d802b7e0038ef5c5cb7768d5e62e8416666a6e998361bba7a4db3031762f1c\"\n",
    "model_name = \"zainhas/Meta-Llama-3.1-8B-Instruct-Reference-my-demo-finetune-4224205a\"\n",
    "\n",
    "response = requests.post(\n",
    "    \"https://api.together.xyz/v1/completions\",\n",
    "    headers={\n",
    "        \"Authorization\": f\"Bearer {api_key}\",\n",
    "        \"Content-Type\": \"application/json\"\n",
    "    },\n",
    "    json={\n",
    "        \"model\": model_name,\n",
    "        \"messages\": [\n",
    "            {\n",
    "                \"role\": \"user\",\n",
    "                \"content\": \"debate the pros and cons of AI\"\n",
    "            }\n",
    "        ],\n",
    "        \"max_tokens\": 128\n",
    "    }\n",
    ")\n",
    "\n",
    "print(response.json())"
   ]
  },
  {
   "cell_type": "code",
   "execution_count": 8,
   "id": "7e438692-47c5-42e9-9ae5-a415599c2639",
   "metadata": {},
   "outputs": [
    {
     "name": "stdout",
     "output_type": "stream",
     "text": [
      "{\n",
      "  \"id\": \"8f2cb236c80ea20e-YYZ\",\n",
      "  \"object\": \"text.completion\",\n",
      "  \"created\": 1734331375,\n",
      "  \"model\": \"zainhas/Meta-Llama-3.1-8B-Instruct-Reference-my-demo-finetune-4224205a\",\n",
      "  \"prompt\": [],\n",
      "  \"choices\": [\n",
      "    {\n",
      "      \"text\": \"Here's a debate on the pros and cons of AI:\\n\\n**Moderator:** Welcome to today's debate on the pros and cons of AI. We have two debaters, Alex and Ben, who will present their arguments on the topic. Alex will argue in favor of AI, while Ben will argue against it. Let's begin with opening statements.\\n\\n**Alex (In Favor of AI):** Thank you, Moderator. AI has revolutionized the way we live and work. It has improved efficiency, productivity, and accuracy in various industries, such as healthcare, finance, and transportation. AI-powered systems can analyze vast amounts of data, identify\",\n",
      "      \"finish_reason\": \"length\",\n",
      "      \"seed\": 5626645655383684000,\n",
      "      \"logprobs\": null,\n",
      "      \"index\": 0\n",
      "    }\n",
      "  ],\n",
      "  \"usage\": {\n",
      "    \"prompt_tokens\": 18,\n",
      "    \"completion_tokens\": 128,\n",
      "    \"total_tokens\": 146,\n",
      "    \"cache_hit_rate\": 0\n",
      "  }\n",
      "}\n"
     ]
    }
   ],
   "source": [
    "import json\n",
    "# Print formatted JSON with indentation\n",
    "print(json.dumps(response.json(), indent=2))"
   ]
  },
  {
   "cell_type": "code",
   "execution_count": 6,
   "id": "2f06c24e-3d9a-40b7-9d74-5ea5417da2e8",
   "metadata": {},
   "outputs": [
    {
     "name": "stdout",
     "output_type": "stream",
     "text": [
      "Here's a debate on the pros and cons of AI:\n",
      "\n",
      "**Moderator:** Welcome to today's debate on the pros and cons of AI. We have two debaters, Alex and Ben, who will present their arguments on the topic. Alex will argue in favor of AI, while Ben will argue against it. Let's begin with opening statements.\n",
      "\n",
      "**Alex (In Favor of AI):** Thank you, Moderator. AI has revolutionized the way we live and work. It has improved efficiency, productivity, and accuracy in various industries, such as healthcare, finance, and transportation. AI-powered systems can analyze vast amounts of data, identify\n"
     ]
    }
   ],
   "source": [
    "print(response.json()['choices'][0]['text'])"
   ]
  },
  {
   "cell_type": "code",
   "execution_count": null,
   "id": "880ae0f1-b4dc-4234-bc72-9de7431c73a0",
   "metadata": {},
   "outputs": [],
   "source": [
    "# https://drive.google.com/file/d/1vPKH-1dk-MyBeoU6hpKjRdePGqPckT_l/view?usp=sharing\n",
    "\n",
    "# ft-94c747ce-d99d-4a72-ab39-d915b781ff2f_adapter.tar.zst"
   ]
  },
  {
   "cell_type": "code",
   "execution_count": 9,
   "id": "329c08fc-9910-47fe-9786-c57be071e464",
   "metadata": {},
   "outputs": [
    {
     "name": "stdout",
     "output_type": "stream",
     "text": [
      "Collecting boto3\n",
      "  Downloading boto3-1.35.81-py3-none-any.whl.metadata (6.7 kB)\n",
      "Collecting botocore<1.36.0,>=1.35.81 (from boto3)\n",
      "  Downloading botocore-1.35.81-py3-none-any.whl.metadata (5.7 kB)\n",
      "Collecting jmespath<2.0.0,>=0.7.1 (from boto3)\n",
      "  Downloading jmespath-1.0.1-py3-none-any.whl.metadata (7.6 kB)\n",
      "Collecting s3transfer<0.11.0,>=0.10.0 (from boto3)\n",
      "  Downloading s3transfer-0.10.4-py3-none-any.whl.metadata (1.7 kB)\n",
      "Requirement already satisfied: python-dateutil<3.0.0,>=2.1 in /opt/anaconda3/envs/lora_inf/lib/python3.11/site-packages (from botocore<1.36.0,>=1.35.81->boto3) (2.9.0.post0)\n",
      "Requirement already satisfied: urllib3!=2.2.0,<3,>=1.25.4 in /opt/anaconda3/envs/lora_inf/lib/python3.11/site-packages (from botocore<1.36.0,>=1.35.81->boto3) (2.2.3)\n",
      "Requirement already satisfied: six>=1.5 in /opt/anaconda3/envs/lora_inf/lib/python3.11/site-packages (from python-dateutil<3.0.0,>=2.1->botocore<1.36.0,>=1.35.81->boto3) (1.16.0)\n",
      "Downloading boto3-1.35.81-py3-none-any.whl (139 kB)\n",
      "Downloading botocore-1.35.81-py3-none-any.whl (13.3 MB)\n",
      "\u001b[2K   \u001b[90m━━━━━━━━━━━━━━━━━━━━━━━━━━━━━━━━━━━━━━━━\u001b[0m \u001b[32m13.3/13.3 MB\u001b[0m \u001b[31m72.6 MB/s\u001b[0m eta \u001b[36m0:00:00\u001b[0m\n",
      "\u001b[?25hDownloading jmespath-1.0.1-py3-none-any.whl (20 kB)\n",
      "Downloading s3transfer-0.10.4-py3-none-any.whl (83 kB)\n",
      "Installing collected packages: jmespath, botocore, s3transfer, boto3\n",
      "Successfully installed boto3-1.35.81 botocore-1.35.81 jmespath-1.0.1 s3transfer-0.10.4\n"
     ]
    }
   ],
   "source": [
    "!pip install boto3"
   ]
  },
  {
   "cell_type": "code",
   "execution_count": null,
   "id": "e8984411-f90c-4c6f-966f-726d712028f6",
   "metadata": {},
   "outputs": [],
   "source": [
    "import boto3\n",
    "import requests\n",
    "\n",
    "# Configuration\n",
    "base_model = \"meta-llama/Meta-Llama-3.1-8B-Instruct\"\n",
    "s3_url = \"s3://test-s3-presigned-adapter/latitude-sft+dpo-8b-minimal.zip\"\n",
    "description = \"llama-3.1-8b\"\n",
    "\n",
    "# Get presigned URL from S3\n",
    "if s3_url:\n",
    "    s3_client = boto3.client('s3')\n",
    "    bucket = s3_url.split('/')[2]\n",
    "    key = '/'.join(s3_url.split('/')[3:])\n",
    "    model_source = s3_client.generate_presigned_url('get_object', Params={'Bucket': bucket, 'Key': key})\n",
    "    \n",
    "    # Verify URL is accessible\n",
    "    if requests.head(model_source).status_code != 200:\n",
    "        raise Exception(\"Invalid presigned URL\")\n",
    "\n",
    "# Make API request to Together.xyz\n",
    "response = requests.post(\n",
    "    \"https://api.together.xyz/v0/models\",\n",
    "    headers={\n",
    "        \"Content-Type\": \"application/json\",\n",
    "        \"Authorization\": f\"Bearer 11d802b7e0038ef5c5cb7768d5e62e8416666a6e998361bba7a4db3031762f1c\"\n",
    "    },\n",
    "    json={\n",
    "        \"model_name\": ADAPTER_MODEL_NAME,\n",
    "        \"model_source\": model_source,\n",
    "        \"model_type\": MODEL_TYPE,\n",
    "        \"base_model\": base_model,\n",
    "        \"description\": description\n",
    "    }\n",
    ")"
   ]
  }
 ],
 "metadata": {
  "kernelspec": {
   "display_name": "Python 3 (ipykernel)",
   "language": "python",
   "name": "python3"
  },
  "language_info": {
   "codemirror_mode": {
    "name": "ipython",
    "version": 3
   },
   "file_extension": ".py",
   "mimetype": "text/x-python",
   "name": "python",
   "nbconvert_exporter": "python",
   "pygments_lexer": "ipython3",
   "version": "3.11.11"
  }
 },
 "nbformat": 4,
 "nbformat_minor": 5
}
