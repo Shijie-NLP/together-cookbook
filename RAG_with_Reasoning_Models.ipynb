{
 "cells": [
  {
   "cell_type": "markdown",
   "metadata": {},
   "source": [
    "# RAG with Reasoning Models\n",
    "\n",
    "Author: [Zain Hasan](https://x.com/zainhasan6)\n",
    "\n",
    "[![Open In Colab](https://colab.research.google.com/assets/colab-badge.svg)](https://colab.research.google.com/github/togethercomputer/together-cookbook/blob/main/RAG_with_Reasoning_Models.ipynb)"
   ]
  },
  {
   "cell_type": "markdown",
   "metadata": {
    "id": "JdJJyFNcgNhp"
   },
   "source": [
    "### Introduction\n",
    "\n",
    "In this notebook we will use a reasoning model to answer questions based on a set of context.\n",
    "\n",
    "The interesting part is that the reasoning model will not only answer the question but also provide a justification for the answer.\n",
    "\n",
    "Additionally if no relevant context is found, the model will say that it does not know the answer and provide a justification for this in the thinking tokens!\n",
    "\n",
    "The notebook is structured as follows:\n",
    "\n",
    "- Install the relevant libraries\n",
    "- Download the full document for SB1047  \n",
    "- Process and chunk the document\n",
    "- Embed and index the chunks\n",
    "- Retrieve the top 5 chunks\n",
    "- Call the generative model with the retrieved chunks and the query"
   ]
  },
  {
   "cell_type": "markdown",
   "metadata": {},
   "source": [
    "## Install Relevant Libraries"
   ]
  },
  {
   "cell_type": "code",
   "execution_count": 1,
   "metadata": {
    "colab": {
     "base_uri": "https://localhost:8080/"
    },
    "id": "vvgfJHr4Z8tQ",
    "outputId": "15456b74-ed09-4950-f490-48039ac3d81b"
   },
   "outputs": [],
   "source": [
    "!pip install -qU together beautifulsoup4 numpy"
   ]
  },
  {
   "cell_type": "code",
   "execution_count": 2,
   "metadata": {},
   "outputs": [],
   "source": [
    "import os\n",
    "from together import Together\n",
    "\n",
    "# Paste in your Together AI API Key or load it\n",
    "\n",
    "client = Together(api_key = os.environ.get(\"TOGETHER_API_KEY\"))"
   ]
  },
  {
   "cell_type": "markdown",
   "metadata": {},
   "source": [
    "### Download the Full Document for SB1047"
   ]
  },
  {
   "cell_type": "code",
   "execution_count": 3,
   "metadata": {
    "colab": {
     "base_uri": "https://localhost:8080/"
    },
    "id": "PJtvFPIAbZVr",
    "outputId": "ea5ba13c-95f5-499f-a733-967eb7820db3"
   },
   "outputs": [
    {
     "name": "stdout",
     "output_type": "stream",
     "text": [
      "California-2023-SB1047-Amended\n",
      "                Amended\n",
      "               IN \n",
      "                Senate\n",
      "               May 16, 2024\n",
      "                Amended\n",
      "               IN \n",
      "                Senate\n",
      "               April 30, 2024\n",
      "                Amended\n",
      "               IN \n",
      "                Senate\n",
      "               April 16, 2024\n",
      "                Amended\n",
      "               IN \n",
      "                Senate\n",
      "               April 08, 2024\n",
      "                Amended\n",
      "               IN \n",
      "                Senate\n",
      "               March 20, 2024\n",
      "                    CALIFORNIA LEGISLATURE—\n",
      "                    2023–2024 REGULAR SESSION\n",
      "                Senate Bill\n",
      "              No. 1047Introduced by Senator Wiener(Coauthors: Senators Roth, Rubio, and Stern)February 07, 2024An act to add Chapter 22.6 (commencing with Section 22602) to Division 8 of the Business and Professions Code, and to add Sections 11547.6 and 11547.7 to the Government Code, relating to artificial intelligence.LEGISLATIVE COUNSEL'S DIGESTSB 1047, as amended, Wi\n"
     ]
    }
   ],
   "source": [
    "import requests\n",
    "from bs4 import BeautifulSoup\n",
    "\n",
    "def get_legiscan_text(url):\n",
    "    \"\"\"\n",
    "    Fetches and returns the text content from a given LegiScan URL.\n",
    "    Args:\n",
    "        url (str): The URL of the LegiScan page to fetch.\n",
    "    Returns:\n",
    "        str: The text content of the page.\n",
    "    Raises:\n",
    "        requests.exceptions.RequestException: If there is an issue with the HTTP request.\n",
    "    \"\"\"\n",
    "    # Basic headers to mimic a browser\n",
    "    headers = {\n",
    "        'User-Agent': 'Mozilla/5.0 (Windows NT 10.0; Win64; x64) AppleWebKit/537.36'\n",
    "    }\n",
    "\n",
    "    # Make the request\n",
    "    response = requests.get(url, headers=headers)\n",
    "\n",
    "    # Parse HTML\n",
    "    soup = BeautifulSoup(response.text, 'html.parser')\n",
    "\n",
    "    # Get text content\n",
    "    content = soup.get_text()\n",
    "\n",
    "    return content\n",
    "\n",
    "url = \"https://legiscan.com/CA/text/SB1047/id/2999979/California-2023-SB1047-Amended.html\"\n",
    "text = get_legiscan_text(url)\n",
    "print(text[:1000])"
   ]
  },
  {
   "cell_type": "markdown",
   "metadata": {},
   "source": [
    "### 1. Data Processing and Chunking\n",
    "\n",
    "We will RAG over the recent [**SB1047**](https://legiscan.com/CA/text/SB1047/id/2999979/California-2023-SB1047-Amended.html) bill in California."
   ]
  },
  {
   "cell_type": "code",
   "execution_count": 4,
   "metadata": {},
   "outputs": [],
   "source": [
    "# We can get away with naive fixed sized chunking as the context generation will add meaning to these chunks\n",
    "\n",
    "def create_chunks(document, chunk_size=300, overlap=50):\n",
    "    return [document[i : i + chunk_size] for i in range(0, len(document), chunk_size - overlap)]"
   ]
  },
  {
   "cell_type": "code",
   "execution_count": 5,
   "metadata": {},
   "outputs": [
    {
     "name": "stdout",
     "output_type": "stream",
     "text": [
      "Chunk 1: California-2023-SB1047-Amended\n",
      "                Amended\n",
      "               IN \n",
      "                Senate\n",
      "               May 16, 2024\n",
      "                Amended\n",
      "               IN \n",
      "                Senate\n",
      "               April 30, 2024\n",
      "                Amended\n",
      "               IN \n",
      "                Senate\n",
      "               April 16, 2024\n",
      "                Amended\n",
      "         \n",
      "Chunk 2: , 2024\n",
      "                Amended\n",
      "               IN \n",
      "                Senate\n",
      "               April 08, 2024\n",
      "                Amended\n",
      "               IN \n",
      "                Senate\n",
      "               March 20, 2024\n",
      "                    CALIFORNIA LEGISLATURE—\n",
      "                    2023–2024 REGULAR SESSION\n",
      "                Senate Bill\n",
      "              No. 1047Introduced \n",
      "Chunk 3: e Bill\n",
      "              No. 1047Introduced by Senator Wiener(Coauthors: Senators Roth, Rubio, and Stern)February 07, 2024An act to add Chapter 22.6 (commencing with Section 22602) to Division 8 of the Business and Professions Code, and to add Sections 11547.6 and 11547.7 to the Government Code, relating to artificial intelligence.LEGISLATIVE COUNSEL'S\n",
      "Chunk 4: icial intelligence.LEGISLATIVE COUNSEL'S DIGESTSB 1047, as amended, Wiener.\n",
      "                          Safe and Secure Innovation for Frontier Artificial Intelligence Models Act.Existing law requires the Secretary of Government Operations to develop a coordinated plan to, among other things, investigate the feasibility of, and obstacles to, developi\n",
      "Chunk 5: asibility of, and obstacles to, developing standards and technologies for state departments to determine digital content provenance. For the purpose of informing that coordinated plan, existing law requires the secretary to evaluate, among other things, the impact of the proliferation of deepfakes, defined to mean audio or visual content that has b\n",
      "Chunk 6:  mean audio or visual content that has been generated or manipulated by artificial intelligence that would falsely appear to be authentic or truthful and that features depictions of people appearing to say or do things they did not say or do without their consent, on state government, California-based businesses, and residents of the state.Existing\n",
      "Chunk 7: ses, and residents of the state.Existing law creates the Department of Technology within the\n",
      "\t\t\t Government Operations Agency and requires the department to, among other things, identify, assess, and prioritize high-risk, critical information technology services and systems across state government for modernization, stabilization, or remediation.Th\n",
      "Chunk 8: zation, stabilization, or remediation.This bill would enact the Safe and Secure Innovation for Frontier Artificial Intelligence Models Act to, among other things, authorize a developer of a covered model, as defined, to determine whether a covered model qualifies for a limited duty exemption before initiating training of that covered model, as spec\n",
      "Chunk 9:  training of that covered model, as specified. The bill would define “limited duty exemption” to mean a determination, made as specified, with respect to a covered model, that is not a derivative model, that a developer can reasonably exclude the possibility that the covered model has a hazardous capability, as defined, or may come close to possess\n",
      "Chunk 10: as defined, or may come close to possessing a hazardous capability when accounting for a reasonable margin for safety and the possibility of\n",
      "\t\t\t posttraining modifications.This bill would require that a developer, before initiating training of a nonderivative covered model, comply with various requirements, including implementing the capability to \n",
      "Chunk 11: ncluding implementing the capability to promptly enact a full shutdown of the covered model until that covered model is the subject of a limited duty exemption.This bill would require a developer of a nonderivative covered model that is not the subject of a limited duty exemption to submit to the Frontier Model Division, which the bill would create\n",
      "Chunk 12: el Division, which the bill would create within the Department of Technology, an annual certification under penalty of perjury of compliance with these provisions signed by the chief technology officer, or a more senior corporate officer, in a format and on a date as prescribed by the Frontier Model Division. By expanding the scope of the crime of \n",
      "Chunk 13:  By expanding the scope of the crime of perjury, this bill would impose a state-mandated local program. The bill would also require a developer to\n",
      "\t\t\t report each artificial intelligence safety incident affecting a covered model to the Frontier Model Division in a manner prescribed by the Frontier Model Division.This bill would require a person tha\n",
      "Chunk 14: ion.This bill would require a person that operates a computing cluster, as defined, to implement appropriate written policies and procedures to do certain things when a customer utilizes compute resources that would be sufficient to train a covered model, including assess whether a prospective customer intends to utilize the computing cluster to de\n",
      "Chunk 15: s to utilize the computing cluster to deploy a covered model.This bill would punish a violation of these provisions with a civil penalty, as prescribed, to be recovered by the Attorney General.This bill would also create the Frontier Model Division within the Department of Technology and would require the division to, among other things, review ann\n",
      "Chunk 16: ision to, among other things, review annual certification reports from developers received pursuant to these\n",
      "\t\t\t provisions and publicly release summarized findings based on those reports. The bill would authorize the division to assess related fees and would require deposit of the fees into the Frontier Model Division Programs Fund, which the bill\n",
      "Chunk 17: l Division Programs Fund, which the bill would create. The bill would make moneys in the fund available for the purpose of these provisions only upon appropriation by the Legislature.This bill would also require the Department of Technology to commission consultants, as prescribed, to create a public cloud computing cluster, to be known as CalCompu\n",
      "Chunk 18: mputing cluster, to be known as CalCompute, with the primary focus of conducting research into the safe and secure deployment of large-scale artificial intelligence models and fostering equitable innovation that includes, among other things, a fully owned and hosted cloud platform.The California Constitution requires the state to reimburse local ag\n",
      "Chunk 19: requires the state to reimburse local agencies and school districts for certain costs mandated by the\n",
      "\t\t\t state. Statutory provisions establish procedures for making that reimbursement.This bill would provide that no reimbursement is required by this act for a specified reason.Digest Key\n",
      "      Vote:\n",
      "      MAJORITY  \n",
      "      Appropriation:\n",
      "      NO  \n",
      "\n",
      "Chunk 20: ORITY  \n",
      "      Appropriation:\n",
      "      NO  \n",
      "      Fiscal Committee:\n",
      "      YES  \n",
      "      Local Program:\n",
      "      YES  Bill TextThe people of the State of California do enact as follows:SECTION 1. This act shall be known, and may be cited, as the Safe and Secure Innovation for Frontier Artificial Intelligence Models Act.SEC. 2. The Legislature finds and decla\n",
      "Chunk 21: .SEC. 2. The Legislature finds and declares all of the following:(a) California is leading the world in artificial intelligence innovation and research, through companies large and small, as well as through our remarkable public and private universities.(b) Artificial intelligence, including new advances in generative artificial intelligence, has t\n",
      "Chunk 22: enerative artificial intelligence, has the potential to catalyze innovation and the rapid development of a wide range of benefits for Californians and the California economy, including advances in medicine, wildfire forecasting and prevention, and climate science, and to push the bounds of human\n",
      "\t\t\t\tcreativity and capacity.(c) If not properly subje\n",
      "Chunk 23: y and capacity.(c) If not properly subject to human controls, future development in artificial intelligence may also have the potential to be used to create novel threats to public safety and security, including by enabling the creation and the proliferation of weapons of mass destruction, such as biological, chemical, and nuclear weapons, as well \n",
      "Chunk 24:  chemical, and nuclear weapons, as well as weapons with cyber-offensive capabilities.(d) The state government has an essential role to play in ensuring that California recognizes the benefits of this technology while avoiding the most severe risks, as well as to ensure that artificial intelligence innovation and access to compute is accessible to a\n",
      "Chunk 25: and access to compute is accessible to academic researchers and startups, in addition to large companies.SEC. 3. Chapter 22.6 (commencing with Section 22602) is added to Division 8 of the Business and Professions Code, to read:\n",
      "                CHAPTER\n",
      "               22.6. Safe and Secure Innovation for Frontier Artificial Intelligence Models22602. \n",
      "Chunk 26: er Artificial Intelligence Models22602. As used in this chapter:(a) “Advanced persistent threat” means an adversary with sophisticated levels of expertise and significant resources that allow it, through the use of multiple different attack vectors, including, but not limited to, cyber, physical, and deception, to generate opportunities to achieve \n",
      "Chunk 27: n, to generate opportunities to achieve its objectives that are typically to establish and extend its presence within the information technology infrastructure of organizations for purposes of exfiltrating information or to undermine or impede critical aspects of a mission, program, or organization or place itself in a position to do so in the futu\n",
      "Chunk 28: tself in a position to do so in the future.(b) “Artificial intelligence model” means an engineered or machine-based system that, for explicit or implicit objectives, infers, from the input it receives, how to generate outputs that can influence physical or virtual environments and that may operate with varying levels of autonomy.(c) “Artificial int\n",
      "Chunk 29: g levels of autonomy.(c) “Artificial intelligence safety incident” means any of the following:(1) A covered model autonomously engaging in behavior other than at the request of a user that materially increases the risk of a hazardous capability being used.(2) Theft, misappropriation, malicious use, inadvertent release, unauthorized access, or escap\n",
      "Chunk 30: t release, unauthorized access, or escape of the model weights of a covered\n",
      "\t\t\t\t\t\t  model that is not the subject of a limited duty exemption.(3) The critical failure of technical or administrative controls, including controls limiting the ability to modify a covered model that is not the subject of a limited duty exemption.(4) Unauthorized use of \n",
      "Chunk 31:  duty exemption.(4) Unauthorized use of the hazardous capability of a covered model.(d) “Computing cluster” means a set of machines transitively connected by data center networking of over 100 gigabits per second that has a theoretical maximum computing capacity of at least 10^20 integer or floating-point operations per second and can be used for t\n",
      "Chunk 32: rations per second and can be used for training artificial intelligence.(e) “Covered guidance” means either of the\n",
      "\t\t\t\t\t\t  following:(1) Guidance issued by the National Institute of Standards and Technology and by the Frontier Model Division that is relevant to the management of safety risks associated with artificial intelligence models that may p\n",
      "Chunk 33: rtificial intelligence models that may possess hazardous capabilities.(2) Industry best practices, including safety practices, precautions, or testing procedures undertaken by developers of comparable models that are relevant to the management of safety risks associated with artificial intelligence models that may possess hazardous capabilities.(f)\n",
      "Chunk 34: t may possess hazardous capabilities.(f) “Covered model” means an artificial intelligence model that meets either of the following criteria:(1) The artificial\n",
      "\t\t\t\t\t\t  intelligence model was trained using a quantity of computing power greater than 10^26 integer or floating-point\n",
      "\t\t\t\t\t\t  operations.(2) The artificial intelligence model was trained us\n",
      "Chunk 35: ficial intelligence model was trained using a quantity of computing power sufficiently large that it could reasonably be expected to have similar or greater performance as an artificial intelligence model trained using a quantity of computing power greater than 10^26 integer or floating-point operations in 2024 as assessed using benchmarks commonly\n",
      "Chunk 36: 24 as assessed using benchmarks commonly used to quantify the general performance of state-of-the-art foundation models.(g) “Critical harm” means a harm listed in paragraph (1) of subdivision (n).(h) “Critical infrastructure” means assets, systems, and networks, whether physical or virtual, the incapacitation or destruction of which would have a de\n",
      "Chunk 37:  or destruction of which would have a debilitating effect on\n",
      "\t\t\t\t\t\t  physical security, economic security, public health, or safety in the state.(i) (1) “Derivative model” means an artificial intelligence model that is a derivative of another artificial intelligence model, including either of the following:(A) A modified or unmodified copy of an ar\n",
      "Chunk 38: ) A modified or unmodified copy of an artificial intelligence model.(B) A combination of an artificial intelligence model with other software.(2) “Derivative model” does not include an entirely independently trained artificial intelligence model.(j) (1) “Developer” means a person that creates, owns, or otherwise has\n",
      "\t\t\t\t\t\t  responsibility for an ar\n",
      "Chunk 39: ise has\n",
      "\t\t\t\t\t\t  responsibility for an artificial intelligence model.(2) “Developer” does not include a third-party machine-learning operations platform, an artificial intelligence infrastructure platform, a computing cluster, an application developer using sourced models, or an end-user of an artificial intelligence model.(k) “Fine tuning” means th\n",
      "Chunk 40: ligence model.(k) “Fine tuning” means the adjustment of the model weights of an artificial intelligence model after it has finished its initial training by training the model with new data.(l) “Frontier Model Division” means the Frontier Model Division created pursuant to Section 11547.6 of the Government Code.(m) “Full shutdown” means the cessatio\n",
      "Chunk 41: e.(m) “Full shutdown” means the cessation of operation of a covered\n",
      "\t\t\t\t\t\t  model, including all copies and derivative models, on all computers and storage devices within custody, control, or possession of a person, including any computer or storage device remotely provided by agreement.(n) (1) “Hazardous capability” means the capability of a cover\n",
      "Chunk 42: ability” means the capability of a covered model to be used to enable any of the following harms in a way that would be significantly more difficult to cause without access to a covered model:(A) The creation or use of a chemical, biological, radiological, or nuclear weapon in a manner that results in mass casualties.(B) At least five hundred milli\n",
      "Chunk 43: sualties.(B) At least five hundred million dollars ($500,000,000) of damage through cyberattacks on critical infrastructure via a single incident or multiple\n",
      "\t\t\t\t\t\t  related incidents.(C) At least five hundred million dollars ($500,000,000) of damage by an artificial intelligence model that autonomously engages in conduct that would violate the Pen\n",
      "Chunk 44: es in conduct that would violate the Penal Code if undertaken by a human.(D) Other threats to public safety and security that are of comparable severity to the harms described in paragraphs (A) to (C), inclusive.(2) “Hazardous capability” includes a capability described in paragraph (1) even if the hazardous capability would not manifest but for fi\n",
      "Chunk 45: capability would not manifest but for fine tuning and posttraining modifications performed by third-party experts intending to demonstrate those abilities.(o) “Limited duty exemption” means an exemption,\n",
      "\t\t\t\t\t\t  pursuant to subdivision (a) or (c) of Section 22603, with respect to a covered model that is not a derivative model that a developer can r\n",
      "Chunk 46:  derivative model that a developer can reasonably exclude the possibility that a covered model has a hazardous capability or may come close to possessing a hazardous capability when accounting for a reasonable margin for safety and the possibility of posttraining modifications.(p) “Machine-learning operations platform” means a solution that include\n",
      "Chunk 47:  platform” means a solution that includes a combined offering of necessary machine-learning development capabilities, including exploratory data analysis, data preparation, model training and tuning, model review and governance, model inference and serving, model deployment and monitoring, and automated model retraining.(q) “Model weight” means a n\n",
      "Chunk 48:  retraining.(q) “Model weight” means a numerical parameter established\n",
      "\t\t\t\t\t\t  through training in an artificial intelligence model that helps determine how input information impacts a model’s output.(r) “Open-source artificial intelligence model” means an artificial intelligence model that is made freely available and may be freely modified and re\n",
      "Chunk 49: ilable and may be freely modified and redistributed.(s) “Person” means an individual, proprietorship, firm, partnership, joint venture, syndicate, business trust, company, corporation, limited liability company, association, committee, or any other nongovernmental organization or group of persons acting in concert.(t) “Posttraining modification” me\n",
      "Chunk 50: ncert.(t) “Posttraining modification” means the modification of the capabilities of an artificial intelligence model after the completion of training by any means, including, but\n",
      "\t\t\t\t\t\t  not limited to, initiating additional training, providing the model with access to tools or data, removing safeguards against hazardous misuse or misbehavior of th\n",
      "Chunk 51: st hazardous misuse or misbehavior of the model, or combining the model with, or integrating it into, other software.(u) “Safety and security protocol” means documented technical and organizational protocols that meet both of the following criteria:(1) The protocols are used to manage the risks of developing and operating covered models across thei\n",
      "Chunk 52: and operating covered models across their life cycle, including risks posed by enabling or potentially enabling the creation of derivative models.(2) The protocols specify that compliance with the protocols is required in order to train, operate, possess, and provide external access\n",
      "\t\t\t\t\t\t  to the developer’s covered model.22603. (a) Before initiat\n",
      "Chunk 53:  covered model.22603. (a) Before initiating training of a covered model that is not a derivative model, a developer of that covered model may determine whether the covered model qualifies for a limited duty exemption.(1) In making the determination authorized by this subdivision, a developer shall incorporate all applicable covered guidance.(2) A d\n",
      "Chunk 54:  all applicable covered guidance.(2) A developer may determine that a covered model qualifies for a limited duty exemption if the covered model will have lower performance on all benchmarks relevant under subdivision (f) of Section 22602 and does not have greater general capability than either of the following:(A) A noncovered model that manifestly\n",
      "Chunk 55: g:(A) A noncovered model that manifestly lacks hazardous capabilities.(B) Another model that is the subject of a limited duty exemption.(3) Upon determining that a covered model qualifies for a limited duty exemption, the developer of the covered model shall submit to the Frontier Model Division a certification under penalty of perjury that specifi\n",
      "Chunk 56: on under penalty of perjury that specifies the basis for that determination.(4) A developer that makes a good faith error regarding a limited duty exemption shall be deemed to be in compliance with this subdivision if the developer reports its error to the Frontier Model Division within 30 days of completing the training of the covered model and\n",
      "\t\t\n",
      "Chunk 57: the training of the covered model and\n",
      "\t\t\t\t\t\t  ceases operation of the artificial intelligence model until the developer is otherwise in compliance with subdivision (b).(b) Before initiating training of a covered model that is not a derivative model and is not the subject of a limited duty exemption, and until that covered model is the subject of a \n",
      "Chunk 58:  that covered model is the subject of a limited duty exemption, the developer of that covered model shall do all of the\n",
      "\t\t\t\t\t\t  following:(1) Implement administrative, technical, and physical cybersecurity protections to prevent unauthorized access to, or misuse or unsafe modification of, the covered model, including to\n",
      "\t\t\t\t\t\t  prevent theft, misap\n",
      "Chunk 59: ncluding to\n",
      "\t\t\t\t\t\t  prevent theft, misappropriation, malicious use, or inadvertent release or escape of the model weights from the developer’s custody, that are appropriate in light of the risks associated with the covered model, including from advanced persistent threats or other sophisticated actors.(2) Implement the capability to promptly enact \n",
      "Chunk 60: lement the capability to promptly enact a full shutdown of the covered model.(3) Implement all covered guidance.(4) Implement a written and separate safety and security protocol that does all of the following:(A) Provides reasonable assurance that if a developer complies with its safety and security protocol, either of the following will apply:(i) \n",
      "Chunk 61:  either of the following will apply:(i) The developer will not produce a covered model with a\n",
      "\t\t\t\t\t\t  hazardous capability or enable the production of a derivative model with a hazardous capability.(ii) The safeguards enumerated in the policy will be sufficient to prevent critical harms from the exercise of a hazardous capability in a covered model\n",
      "Chunk 62:  hazardous capability in a covered model.(B) States compliance requirements in an objective manner and with sufficient detail and specificity to allow the developer or a third party to readily ascertain whether the requirements of the safety and security protocol have been followed.(C) Identifies specific tests and test results that would be suffic\n",
      "Chunk 63: ts and test results that would be sufficient to reasonably exclude the possibility that a covered model has a hazardous capability or may come close to possessing a hazardous capability when\n",
      "\t\t\t\t\t\t  accounting for a reasonable margin for safety and the possibility of posttraining modifications, and in addition does all of the following:(i) Describe\n",
      "Chunk 64: n does all of the following:(i) Describes in detail how the testing procedure incorporates fine tuning and posttraining modifications performed by third-party experts intending to demonstrate those abilities.(ii) Describes in detail how the testing procedure incorporates the possibility of posttraining modifications.(iii) Describes in detail how th\n",
      "Chunk 65: cations.(iii) Describes in detail how the testing procedure incorporates the requirement for reasonable margin for safety.(iv) Describes in detail how the testing procedure addresses the possibility that a covered model can be used to make\n",
      "\t\t\t\t\t\t  posttraining modifications or create another covered model in a manner that may generate hazardous cap\n",
      "Chunk 66: a manner that may generate hazardous capabilities.(v) Provides sufficient detail for third parties to replicate the testing procedure.(D) Describes in detail how the developer will meet requirements listed under paragraphs (1), (2), (3), and (5).(E) If applicable, describes in detail how the developer intends to implement the safeguards and require\n",
      "Chunk 67:  to implement the safeguards and requirements referenced in paragraph (1) of subdivision (d).(F) Describes in detail the conditions that would require the execution of a full shutdown.(G) Describes in detail the procedure by which\n",
      "\t\t\t\t\t\t  the safety and security protocol may be modified.(H) Meets other criteria stated by the Frontier Model Division\n",
      "Chunk 68: ia stated by the Frontier Model Division in guidance to achieve the purpose of maintaining the safety of a covered model with a hazardous capability.(5) Ensure that the safety and security protocol is implemented as written, including, at a minimum, by designating senior personnel responsible for ensuring implementation by employees and contractors\n",
      "Chunk 69: lementation by employees and contractors working on a covered model, monitoring and\n",
      "\t\t\t\t\t\t  reporting on implementation, and conducting audits, including through third parties as appropriate.(6) Provide a copy of the safety and security protocol to the Frontier Model Division.(7) Conduct an annual review of the safety and security protocol to accou\n",
      "Chunk 70: he safety and security protocol to account for any changes to the capabilities of the covered model and industry best practices and, if necessary, make modifications to the policy.(8) If the safety and security protocol is modified, provide an updated copy to the Frontier Model Division within 10 business days.(9) Refrain from initiating training o\n",
      "Chunk 71: s.(9) Refrain from initiating training of a covered model if there remains an unreasonable risk that an individual,\n",
      "\t\t\t\t\t\t  or the covered model itself, may be able to use the hazardous capabilities of the covered model, or a derivative model based on it, to cause a critical harm.(10) Implement other measures that are reasonably necessary, includin\n",
      "Chunk 72:  that are reasonably necessary, including in light of applicable guidance from the Frontier Model Division, National Institute of Standards and Technology, and standard-setting organizations, to prevent the development or exercise of hazardous capabilities or to manage the risks arising from them.(c) (1) Upon completion of the training of a covered\n",
      "Chunk 73:  completion of the training of a covered model that is not the subject of a limited duty exemption under subdivision (a) and is not a derivative model, the developer shall perform capability testing sufficient to determine if a limited duty exemption applies\n",
      "\t\t\t\t\t\t  with respect to the covered model pursuant to its safety and security protocol.(2) \n",
      "Chunk 74: to its safety and security protocol.(2) Upon determining if a limited duty exemption applies with respect to the covered model, a developer of the covered model shall submit to the Frontier Model\n",
      "\t\t\t\t\t\t  Division, under penalty of perjury, a certification of compliance with the requirements of this section within 90 days and no more than 30 days af\n",
      "Chunk 75: thin 90 days and no more than 30 days after initiating the commercial, public, or widespread use of the covered model that includes both of the following:(A) The basis for the developer’s determination whether a limited duty exemption applies.(B) The specific methodology and results of the capability testing undertaken pursuant to this subdivision.\n",
      "Chunk 76: undertaken pursuant to this subdivision.(d) Before initiating the commercial, public, or widespread use of a covered model that is not subject to a limited duty exemption, a developer of the nonderivative version of the covered model shall do all of the following:(1) Implement reasonable safeguards and requirements to do all of the following:(A) Pr\n",
      "Chunk 77: ements to do all of the following:(A) Prevent an individual from being able to use the hazardous capabilities of the model, or a derivative model, to cause a critical harm.(B) Prevent an individual from being able to use the model to create a derivative model that was used to cause a critical harm.(C) Ensure, to the extent reasonably possible, that\n",
      "Chunk 78:  to the extent reasonably possible, that the covered model’s actions and any resulting critical harms can be accurately and reliably attributed to it and any user responsible for those actions.(2) Provide reasonable requirements to\n",
      "\t\t\t\t\t\t  developers of derivative models to prevent an individual from being able to use a derivative model to cause a \n",
      "Chunk 79: le to use a derivative model to cause a critical harm.(3) Refrain from initiating the commercial, public, or widespread use of a covered model if there remains an unreasonable risk that an individual may be able to use the hazardous capabilities of the model, or a derivative model based on it, to cause a critical harm.(4) Implement other measures t\n",
      "Chunk 80: ical harm.(4) Implement other measures that are reasonably necessary, including in light of applicable guidance from the Frontier Model Division, National Institute of Standards and Technology, and standard-setting organizations, to prevent the development or exercise of hazardous capabilities or to manage the risks arising from them.(e) A\n",
      "\t\t\t\t\t\t  \n",
      "Chunk 81: e risks arising from them.(e) A\n",
      "\t\t\t\t\t\t  developer of a covered model shall periodically reevaluate the procedures, policies, protections, capabilities, and safeguards implemented pursuant to this section in light of the growing capabilities of covered models and as is reasonably necessary to ensure that the covered model or its users cannot remove \n",
      "Chunk 82: overed model or its users cannot remove or bypass those procedures, policies, protections, capabilities, and safeguards.(f) (1) A developer of a nonderivative covered model that is not the subject of a limited duty exemption shall submit to the Frontier Model Division an annual certification under penalty of perjury of compliance with the requireme\n",
      "Chunk 83: perjury of compliance with the requirements of this section signed by the chief technology officer, or a more senior corporate officer, in a format and on a date as prescribed by the Frontier Model Division.(2) In a certification submitted pursuant to paragraph (1), a developer shall specify or provide, at a minimum, all of the following:(A) The na\n",
      "Chunk 84: minimum, all of the following:(A) The nature and magnitude of hazardous capabilities that the covered model possesses or may reasonably possess and the outcome of capability testing required by subdivision (c).(B) An assessment of the risk that compliance with the safety and security protocol may be insufficient to prevent harms from the exercise o\n",
      "Chunk 85: ent to prevent harms from the exercise of the covered model’s hazardous capabilities.(C) Other information useful to accomplishing the purposes of this subdivision, as determined by the Frontier Model Division.(g) A developer shall report\n",
      "\t\t\t\t\t\t  each artificial intelligence safety incident affecting a covered model to the Frontier Model Division i\n",
      "Chunk 86: d model to the Frontier Model Division in a manner prescribed by the Frontier Model Division. The notification shall be made in the most expedient time possible and without unreasonable delay and in no event later than 72 hours\n",
      "\t\t\t\t\t\t  after learning that an artificial intelligence safety incident has occurred or learning facts sufficient to establ\n",
      "Chunk 87: d or learning facts sufficient to establish a reasonable belief that an artificial intelligence safety incident has occurred.(h) (1) (A) Reliance on an unreasonable limited duty exemption does not relieve a developer of its obligations under this section.(B) A determination that a covered model qualifies for a limited duty exemption that results fr\n",
      "Chunk 88: a limited duty exemption that results from a good faith error reported pursuant to paragraph (4) of subdivision (a) is not an unreasonable limited duty exemption.(2) A limited duty exemption is unreasonable if the developer does not take into account reasonably foreseeable risks of harm or\n",
      "\t\t\t\t\t\t  weaknesses in capability testing that lead to an in\n",
      "Chunk 89: in capability testing that lead to an inaccurate determination.(3) A risk of harm or weakness in capability testing is reasonably foreseeable, if, by the time that a developer releases a model, an applicable risk of harm or weakness in capability testing has already been identified by either of the following:(A) Any other developer of a comparable \n",
      "Chunk 90: (A) Any other developer of a comparable or comparably powerful model through risk assessment, capability testing, or other means.(B) By the National Institute of Standards and Technology, the Frontier Model Division, or any independent standard-setting organization or capability-testing organization cited by either of those entities.22604. A person\n",
      "Chunk 91: either of those entities.22604. A person that operates a computing cluster shall implement appropriate written policies and procedures to do all of the following when a customer utilizes compute resources that would be sufficient to train a covered model:(a) Obtain a prospective customer’s basic identifying information and business purpose for util\n",
      "Chunk 92: nformation and business purpose for utilizing the computing cluster, including all of the following:(1) The identity of that prospective customer.(2) The means and source of payment, including any associated financial institution, credit card number, account number, customer identifier,\n",
      "\t\t\t\t\t\t  transaction identifiers, or virtual currency wallet or\n",
      "Chunk 93: entifiers, or virtual currency wallet or wallet address identifier.(3) The email address and telephonic contact information used to verify a prospective customer’s identity.(4) The Internet Protocol addresses used for access or administration and the date and time of each access or administrative action.(b) Assess whether a prospective customer int\n",
      "Chunk 94: ssess whether a prospective customer intends to utilize the computing cluster to deploy a covered model.(c) Annually validate the information collected pursuant to subdivision (a) and conduct the assessment required pursuant to subdivision (b).(d) Maintain for seven years and\n",
      "\t\t\t\t\t\t  provide to the Frontier Model Division or the Attorney General, u\n",
      "Chunk 95: odel Division or the Attorney General, upon request, appropriate records of actions taken under this section, including policies and\n",
      "\t\t\t\t\t\t  procedures put into effect.(e) Implement the capability to promptly enact a full shutdown in the event of an emergency.22605. (a) A developer of a covered model that provides commercial access to that covered \n",
      "Chunk 96: vides commercial access to that covered model shall provide a transparent, uniform, publicly available price schedule for the purchase of access to that covered model at a given level of quality and quantity subject to the developer’s terms of service and shall not engage in unlawful discrimination or noncompetitive activity in determining price or\n",
      "Chunk 97: etitive activity in determining price or access.(b) (1) A person that operates a computing cluster shall provide a transparent, uniform, publicly available price schedule for the purchase of access to the computing cluster at a given level of quality and quantity subject to the developer’s terms of\n",
      "\t\t\t\t\t\t  service and shall not engage in unlawful d\n",
      "Chunk 98: rvice and shall not engage in unlawful discrimination or noncompetitive activity in determining price or access.(2) A person that operates a computing cluster may provide free, discounted, or preferential access to public entities, academic institutions, or for noncommercial research purposes.22606. (a) If the Attorney General finds that a person i\n",
      "Chunk 99: e Attorney General finds that a person is violating this chapter, the Attorney General may bring a civil action pursuant to this section.(b) Subject to subdivision (d), in a civil action under this section, the court may award any of the following:(1) (A) Preventive relief, including a permanent or temporary injunction, restraining order, or other \n",
      "Chunk 100: injunction, restraining order, or other order against the person responsible for a violation of this chapter, including deletion of the covered model and the weights utilized in that model.(B) Relief pursuant\n",
      "\t\t\t\t\t\t  to this paragraph shall be granted only in response to harm or an imminent risk or threat to public safety.(2) Other relief as the co\n",
      "Chunk 101: public safety.(2) Other relief as the court deems appropriate, such as monetary damages, including punitive damages, to persons aggrieved and an order for the full shutdown of a covered model.(3) A civil penalty in an amount not exceeding 10 percent of the cost, excluding labor cost, to develop the covered model for a first violation and in an amou\n",
      "Chunk 102: del for a first violation and in an amount not exceeding 30 percent of the cost, excluding labor cost, to develop the covered model for any subsequent violation.(c) A court shall disregard corporate formalities and impose joint and several liability on affiliated entities for purposes of effectuating the intent of this\n",
      "\t\t\t\t\t\t  section if the court \n",
      "Chunk 103: nt of this\n",
      "\t\t\t\t\t\t  section if the court concludes that both of the following are true:(1) Steps were taken in the development of the corporate structure among affiliated entities to purposely and unreasonably limit or avoid liability.(2) The corporate structure of the developer or affiliated entities would frustrate recovery of penalties or injunct\n",
      "Chunk 104: ustrate recovery of penalties or injunctive relief under this section.(d) (1) For a violation that occurs before January 1, 2026, a court shall not do any of the following:(A) Order the deletion of a covered model and the weights utilized in that model.(B) Order the full shutdown of\n",
      "\t\t\t\t\t\t  a covered model that does not present an imminent threat t\n",
      "Chunk 105: at does not present an imminent threat to public safety.(C) Award a civil penalty under paragraph (3) of subdivision (b).(2) For a violation that occurs before July 1, 2025, a court shall not award monetary damages to persons aggrieved.22607. (a) Pursuant to subdivision (a) of Section 1102.5 of the Labor Code, a developer shall not prevent an emplo\n",
      "Chunk 106: , a developer shall not prevent an employee from disclosing information to the Attorney General if the employee has reasonable cause to believe that the information indicates that the developer is out of compliance with the requirements of Section 22603.(b) Pursuant to subdivision (b) of Section 1102.5 of the Labor Code, a developer shall not retal\n",
      "Chunk 107:  Labor Code, a developer shall not retaliate against an employee for disclosing information to the Attorney General if the employee has reasonable cause to believe that the information indicates that the developer is out of compliance with the requirements of Section 22603.(c) The Attorney General may publicly release any complaint, or a summary of\n",
      "Chunk 108: y release any complaint, or a summary of that complaint, pursuant to this section if the Attorney General concludes that doing so will serve the public interest.(d) Employees shall seek relief for violations of subdivisions (a) and (b) pursuant to Sections 1102.61 and 1102.62 of the Labor Code.(e) Pursuant to subdivision (a) of Section 1102.8 of th\n",
      "Chunk 109:  subdivision (a) of Section 1102.8 of the Labor Code, a developer shall provide clear notice to all employees working on covered models of their rights and responsibilities under this section.(f) (1) Developers shall provide a reasonable internal process through which an employee may\n",
      "\t\t\t\t\t\t  anonymously disclose information to the developer if the \n",
      "Chunk 110: ose information to the developer if the employee believes in good faith that the information indicates that the developer is out of compliance with the requirements of Section 22603 or has made false or materially misleading statements related to its safety and security protocol that includes, at a minimum, a monthly update to the disclosing employ\n",
      "Chunk 111:  monthly update to the disclosing employee regarding the status of the employee’s disclosure and the actions taken by the developer in response to the disclosure.(2) The disclosures and responses of the process required by this subdivision shall be maintained and shared with nonconflicted officers and directors of the company on a regular basis and\n",
      "Chunk 112: rs of the company on a regular basis and not less than once per quarter.(g) As used in this section, “employee” has the same meaning as defined in\n",
      "\t\t\t\t\t\t  Section 1102.5 of the Labor Code and includes both of the following:(1) Contractors or unpaid advisors involved with assessing, managing, or addressing hazardous capabilities of covered models.(2\n",
      "Chunk 113: ardous capabilities of covered models.(2) Corporate officers.22608. The duties and obligations imposed by this chapter are cumulative with any other duties or obligations imposed under other law and shall not be construed to relieve any party from any duties or obligations imposed under other law and do not limit any rights or remedies under existi\n",
      "Chunk 114: imit any rights or remedies under existing law.SEC. 4. Section 11547.6 is added to the Government Code, to read:11547.6. (a) As used in this section:(1) “Hazardous capability” has the same meaning as defined in Section 22602 of the Business and Professions Code.(2) “Limited duty exemption” has the same meaning as defined in Section 22602 of the Bus\n",
      "Chunk 115: g as defined in Section 22602 of the Business and Professions Code.(b) The Frontier Model Division is hereby created within the Department of Technology.(c) The Frontier Model Division shall do all of the following:(1) Review annual\n",
      "\t\t\t\t\t\tcertification reports received from developers pursuant to Section 22603 of the Business and Professions Code a\n",
      "Chunk 116: 3 of the Business and Professions Code and publicly release summarized findings based on those reports.(2) Advise the Attorney General on potential violations of this section or Chapter 22.6 (commencing with Section 22602) of Division 8 of the Business and Professions Code.(3) (A) Issue guidance, standards, and best practices necessary to prevent u\n",
      "Chunk 117: nd best practices necessary to prevent unreasonable risks from covered models with hazardous capabilities including, but not limited to, more specific components of or requirements under the duties required under Section 22603 of the Business and Professions Code.(B) Establish an optional accreditation process and relevant accreditation\n",
      "\t\t\t\t\t\tstand\n",
      "Chunk 118: s and relevant accreditation\n",
      "\t\t\t\t\t\tstandards under which third parties may be accredited for a three-year period, which may be extended through an appropriate process, to certify adherence by developers to the best practices and standards adopted pursuant to subparagraph (A).(4) Publish anonymized artificial intelligence safety incident reports rec\n",
      "Chunk 119: intelligence safety incident reports received from developers pursuant to Section 22603 of the Business and Professions Code.(5)Establish confidential fora that are structured and facilitated in a manner that allows developers to share best risk management practices\n",
      "\t\t\t\t\t\tfor models with hazardous capabilities in a manner consistent with state and \n",
      "Chunk 120: s in a manner consistent with state and federal antitrust laws.(6)(5) (A) Issue guidance describing the categories of artificial intelligence safety events that are likely to constitute a state of emergency within the meaning of subdivision (b) of Section 8558 and responsive actions that could be ordered by the Governor after a duly proclaimed stat\n",
      "Chunk 121: he Governor after a duly proclaimed state of emergency.(B) The guidance issued pursuant to subparagraph (A) shall not limit, modify, or restrict the authority of the Governor in any way.(7)(6) Appoint and consult with an advisory committee that shall advise the Governor on when it may be necessary to proclaim a state of emergency relating to artifi\n",
      "Chunk 122:  a state of emergency relating to artificial intelligence and advise the Governor on what responses may be appropriate in that event.(8)(7) Appoint and consult with an advisory committee for open-source artificial intelligence that shall do all of the following:(A) Issue\n",
      "\t\t\t\t\t\tguidelines for model evaluation for use by developers of open-source art\n",
      "Chunk 123: for use by developers of open-source artificial intelligence models that do not have hazardous capabilities.(B) Advise the Frontier Model Division on the creation and feasibility of incentives, including tax credits, that could be provided to developers of open-source artificial intelligence models that are not covered models.(C) Advise the Frontie\n",
      "Chunk 124: ot covered models.(C) Advise the Frontier Model Division on future policies and legislation impacting open-source artificial intelligence development.(9)Provide technical assistance and advice to the Legislature, upon request, with respect to artificial intelligence-related legislation.(10)Monitor relevant developments relating to the safety risks \n",
      "Chunk 125: velopments relating to the safety risks associated with the development of artificial intelligence models and the functioning of markets for artificial intelligence models.(11)(8) Levy fees, including an assessed fee for the submission of a certification, in an amount sufficient to cover the reasonable costs of administering this section that do no\n",
      "Chunk 126: of administering this section that do not exceed the reasonable costs of administering this section.(12)(9) (A) Develop and submit to the Judicial Council proposed model jury instructions for actions involving violations of Section 22603 of the Business and Professions Code that the Judicial Council\n",
      "\t\t\t\t\t\tmay, at its discretion, adopt.(B) In develo\n",
      "Chunk 127: , at its discretion, adopt.(B) In developing the model jury instructions required by subparagraph (A), the Frontier Model Division shall consider all of the following factors:(i) The level of rigor and detail of the safety and security protocol that the developer faithfully implemented while it trained, stored, and released a covered model.(ii) Whe\n",
      "Chunk 128: d, and released a covered model.(ii) Whether and to what extent the developer’s safety and security protocol was inferior, comparable, or superior, in its level of rigor and detail, to the safety and security protocols of comparable developers.(iii) The extent and quality of the developer’s safety and security protocol’s prescribed safeguards,\n",
      "\t\t\t\t\n",
      "Chunk 129: y protocol’s prescribed safeguards,\n",
      "\t\t\t\t\t\tcapability testing, and other precautionary measures with respect to the relevant hazardous capability and related hazardous capabilities.(iv) Whether and to what extent the developer and its agents complied with the developer’s safety and security protocol, and to the full degree, that doing so might plaus\n",
      "Chunk 130: e full degree, that doing so might plausibly have avoided causing a particular harm.(v) Whether and to what extent the developer carefully and rigorously investigated, documented, and accurately measured, insofar as reasonably possible given the state-of-the-art, relevant risks that its model might pose.(13)(10) (A) On or before July 1, 2026, issue\n",
      "Chunk 131: 10) (A) On or before July 1, 2026, issue guidance regarding both of the following:(i) Technical thresholds and benchmarks relevant to determining whether an artificial intelligence model is a covered model, as defined in Section 22602 of the Business and Professions Code.(ii) Technical thresholds and benchmarks relevant to determining whether a cov\n",
      "Chunk 132: ks relevant to determining whether a covered model is subject to a limited duty exemption under paragraph (2) of subdivision (a) of Section 22603 of the Business and Professions Code.(B) In developing guidance pursuant to this paragraph, the Frontier Model Division shall take into account both of the following:(i) The quantity of computing power us\n",
      "Chunk 133: g:(i) The quantity of computing power used to train covered models that have been identified as having hazardous capabilities or not having hazardous capabilities when accounting for a reasonable margin for safety.(ii) Similar thresholds used in federal law or regulations for the management of hazardous capabilities.(14)(11) At least every 24 month\n",
      "Chunk 134: ilities.(14)(11) At least every 24 months after initial publication of guidance under paragraphs (3) and (13),\n",
      "\t\t\t\t\t\t(3), (5), and (10), review existing guidance in consideration of technological advancements, changes to industry best practices, and information received pursuant to paragraph (1) and update its guidance to the extent appropriate.(d)\n",
      "Chunk 135: s guidance to the extent appropriate.(d) There is hereby created in the General Fund the Frontier Model Division Programs Fund.(1) All fees received by the Frontier Model Division pursuant to this section shall be deposited into the fund.(2) All moneys in the account shall be available, only upon appropriation by the Legislature, for purposes of ca\n",
      "Chunk 136: n by the Legislature, for purposes of carrying out the provisions of this section.SEC. 5. Section 11547.7 is added to the Government Code, to read:11547.7. (a) The Department of Technology shall commission consultants, pursuant to subdivision (b), to create a public cloud computing cluster, to be known as CalCompute, with the primary focus of condu\n",
      "Chunk 137: Compute, with the primary focus of conducting research into the safe and secure deployment of large-scale artificial intelligence models and fostering equitable innovation that includes, but is not limited to, all of the following:(1) A fully owned and hosted cloud platform.(2) Necessary human expertise to operate and maintain the platform.(3) Nece\n",
      "Chunk 138: erate and maintain the platform.(3) Necessary human expertise to support, train, and\n",
      "\t\t\t\t\t\tfacilitate use of CalCompute.(b) The consultants shall include, but not be limited to, representatives of national laboratories, universities, and any relevant professional associations or private sector stakeholders.(c) To meet the objective of establishing \n",
      "Chunk 139: ) To meet the objective of establishing CalCompute, the Department of Technology shall require consultants commissioned to work on this process to evaluate and incorporate all of the following considerations into its plan:(1) An analysis of the public, private, and nonprofit cloud platform infrastructure ecosystem, including, but not limited to, do\n",
      "Chunk 140: ystem, including, but not limited to, dominant cloud providers, the relative compute power of each provider, the estimated cost of supporting platforms as well as pricing models, and\n",
      "\t\t\t\t\t\trecommendations on the scope of CalCompute.(2) The process to establish affiliate and other partnership relationships to establish and maintain an advanced compu\n",
      "Chunk 141: establish and maintain an advanced computing infrastructure.(3) A framework to determine the parameters for use of CalCompute, including, but not limited to, a process for deciding which projects will be supported by CalCompute and what resources and services will be provided to projects.(4) A process for evaluating appropriate uses of the public c\n",
      "Chunk 142: luating appropriate uses of the public cloud resources and their potential downstream impact, including mitigating downstream harms in deployment.(5) An evaluation of the landscape of existing computing capability, resources,\n",
      "\t\t\t\t\t\tdata, and human expertise in California for the purposes of responding quickly to a security, health, or natural disas\n",
      "Chunk 143:  to a security, health, or natural disaster emergency.(6) An analysis of the state’s investment in the training and development of the technology workforce, including through degree programs at the University of California, the California State University, and the California Community Colleges.(7) A process for evaluating the potential impact of Ca\n",
      "Chunk 144: or evaluating the potential impact of CalCompute on retaining technology professionals in the public workforce.(d) The Department of Technology shall submit, pursuant to Section 9795, an annual report to the Legislature from the commissioned consultants to ensure progress in meeting the objectives listed above.(e) The Department of Technology may r\n",
      "Chunk 145: e.(e) The Department of Technology may receive private donations, grants, and local funds, in addition to allocated funding in the annual budget, to effectuate this section.(f) This section shall become operative only upon an\n",
      "\t\t\t\t\t\tappropriation in a budget act for the purposes of this section.SEC. 6. The provisions of this act are severable. If an\n",
      "Chunk 146: visions of this act are severable. If any provision of this act or its application is held invalid, that invalidity shall not affect other provisions or applications that can be given effect without the invalid provision or application.SEC. 7. This act shall be liberally construed to effectuate its purposes.SEC. 8. No reimbursement is required by t\n",
      "Chunk 147: EC. 8. No reimbursement is required by this act pursuant to Section 6 of Article XIII B of the California Constitution because the only costs that may be incurred by a local agency or school district will be incurred because this act creates a new crime or infraction, eliminates a crime or infraction, or changes the penalty for a crime or infractio\n",
      "Chunk 148: ges the penalty for a crime or infraction, within the meaning of Section 17556 of the Government Code, or changes the definition of a crime within the meaning of Section 6 of Article XIII B of the California Constitution.\n"
     ]
    }
   ],
   "source": [
    "chunks = create_chunks(text, chunk_size=350, overlap=40)\n",
    "\n",
    "for i, chunk in enumerate(chunks):\n",
    "    print(f\"Chunk {i + 1}: {chunk}\")"
   ]
  },
  {
   "cell_type": "markdown",
   "metadata": {},
   "source": [
    "### 2. Indexing and Embedding Generation\n",
    "\n",
    "We will now use `bge-large-en-v1.5` to embed the augmented chunks above into a vector index."
   ]
  },
  {
   "cell_type": "code",
   "execution_count": 6,
   "metadata": {},
   "outputs": [],
   "source": [
    "from typing import List\n",
    "\n",
    "import numpy as np\n",
    "\n",
    "def generate_embeddings(input_texts: List[str], model_api_string: str) -> List[List[float]]:\n",
    "    \"\"\"Generate embeddings from Together python library.\n",
    "\n",
    "    Args:\n",
    "        input_texts: a list of string input texts.\n",
    "        model_api_string: str. An API string for a specific embedding model of your choice.\n",
    "\n",
    "    Returns:\n",
    "        embeddings_list: a list of embeddings. Each element corresponds to the each input text.\n",
    "    \"\"\"\n",
    "    outputs = client.embeddings.create(\n",
    "        input=input_texts,\n",
    "        model=model_api_string,\n",
    "    )\n",
    "    return np.array([x.embedding for x in outputs.data])"
   ]
  },
  {
   "cell_type": "code",
   "execution_count": 7,
   "metadata": {},
   "outputs": [],
   "source": [
    "embeddings = generate_embeddings(list(chunks), \"BAAI/bge-large-en-v1.5\")"
   ]
  },
  {
   "cell_type": "code",
   "execution_count": 8,
   "metadata": {},
   "outputs": [
    {
     "data": {
      "text/plain": [
       "1024"
      ]
     },
     "execution_count": 8,
     "metadata": {},
     "output_type": "execute_result"
    }
   ],
   "source": [
    "# Each vector is 1024 dimensional\n",
    "\n",
    "len(embeddings[0])"
   ]
  },
  {
   "cell_type": "code",
   "execution_count": 9,
   "metadata": {},
   "outputs": [],
   "source": [
    "# Generate the vector embeddings for the query\n",
    "query = \"what is the maximum allowable floating point operation per second this bill allows?\"\n",
    "\n",
    "query_embedding = generate_embeddings([query], 'BAAI/bge-large-en-v1.5')[0]"
   ]
  },
  {
   "cell_type": "code",
   "execution_count": 10,
   "metadata": {},
   "outputs": [],
   "source": [
    "# Calculate cosine similarity between the query embedding and each movie embedding\n",
    "\n",
    "dot_product = np.dot(query_embedding, np.array(embeddings).T)\n",
    "query_norm = np.linalg.norm(query_embedding)\n",
    "embeddings_norm = np.linalg.norm(embeddings, axis=1)\n",
    "similarity_scores = dot_product / (query_norm * embeddings_norm)\n",
    "indices = np.argsort(-similarity_scores)"
   ]
  },
  {
   "cell_type": "code",
   "execution_count": 11,
   "metadata": {},
   "outputs": [
    {
     "data": {
      "text/plain": [
       "array([ 30,   2,  34, 135,  33])"
      ]
     },
     "execution_count": 11,
     "metadata": {},
     "output_type": "execute_result"
    }
   ],
   "source": [
    "top_5_indices = indices[:5]\n",
    "top_5_indices"
   ]
  },
  {
   "cell_type": "code",
   "execution_count": 12,
   "metadata": {},
   "outputs": [
    {
     "data": {
      "text/plain": [
       "[' duty exemption.(4)\\xa0Unauthorized use of the hazardous capability of a covered model.(d)\\xa0“Computing cluster” means a set of machines transitively connected by data center networking of over 100 gigabits per second that has a theoretical maximum computing capacity of at least 10^20 integer or floating-point operations per second and can be used for t',\n",
       " \"e Bill\\n              No. 1047Introduced by Senator Wiener(Coauthors: Senators Roth, Rubio, and Stern)February\\xa007,\\xa02024An act to add Chapter 22.6 (commencing with Section 22602) to Division 8 of the Business and Professions Code, and to add Sections 11547.6 and 11547.7 to the Government Code, relating to artificial intelligence.LEGISLATIVE COUNSEL'S\",\n",
       " 'ficial intelligence model was trained using a quantity of computing power sufficiently large that it could reasonably be expected to have similar or greater performance as an artificial intelligence model trained using a quantity of computing power greater than 10^26 integer or floating-point operations in 2024 as assessed using benchmarks commonly',\n",
       " 'n by the Legislature, for purposes of carrying out the provisions of this section.SEC. 5.\\xa0Section 11547.7 is added to the Government Code, to read:11547.7.\\xa0(a)\\xa0The Department of Technology shall commission consultants, pursuant to subdivision (b), to create a public cloud computing cluster, to be known as CalCompute, with the primary focus of condu',\n",
       " 't may possess hazardous capabilities.(f)\\xa0“Covered model” means an artificial intelligence model that meets either of the following criteria:(1)\\xa0The artificial\\n\\t\\t\\t\\t\\t\\t  intelligence model was trained using a quantity of computing power greater than 10^26 integer or floating-point\\n\\t\\t\\t\\t\\t\\t  operations.(2)\\xa0The artificial intelligence model was trained us']"
      ]
     },
     "execution_count": 12,
     "metadata": {},
     "output_type": "execute_result"
    }
   ],
   "source": [
    "top_5_chunks = [chunks[index] for index in indices][:5]\n",
    "\n",
    "top_5_chunks"
   ]
  },
  {
   "cell_type": "code",
   "execution_count": 13,
   "metadata": {},
   "outputs": [],
   "source": [
    "# compact function to retrieve the top k chunks\n",
    "\n",
    "def vector_retrieval(query: str, top_k: int = 5, vector_index: np.ndarray = None, chunks: List[str] = None) -> List[int]:\n",
    "    \"\"\"\n",
    "    Retrieve the top-k most similar items from an index based on a query.\n",
    "    Args:\n",
    "        query (str): The query string to search for.\n",
    "        top_k (int, optional): The number of top similar items to retrieve. Defaults to 5.\n",
    "        index (np.ndarray, optional): The index array containing embeddings to search against. Defaults to None.\n",
    "    Returns:\n",
    "        List[int]: A list of indices corresponding to the top-k most similar items in the index.\n",
    "    \"\"\"\n",
    "\n",
    "    query_embedding = generate_embeddings([query], 'BAAI/bge-large-en-v1.5')[0]\n",
    "    \n",
    "    \n",
    "    dot_product = np.dot(query_embedding, np.array(vector_index).T)\n",
    "    query_norm = np.linalg.norm(query_embedding)\n",
    "    vector_index_norm = np.linalg.norm(vector_index, axis=1)\n",
    "    \n",
    "    similarity_scores = dot_product / (query_norm * vector_index_norm)\n",
    "\n",
    "    return [chunks[index] for index in np.argsort(-similarity_scores)[:top_k]]"
   ]
  },
  {
   "cell_type": "code",
   "execution_count": 14,
   "metadata": {},
   "outputs": [
    {
     "data": {
      "text/plain": [
       "[' duty exemption.(4)\\xa0Unauthorized use of the hazardous capability of a covered model.(d)\\xa0“Computing cluster” means a set of machines transitively connected by data center networking of over 100 gigabits per second that has a theoretical maximum computing capacity of at least 10^20 integer or floating-point operations per second and can be used for t',\n",
       " \"e Bill\\n              No. 1047Introduced by Senator Wiener(Coauthors: Senators Roth, Rubio, and Stern)February\\xa007,\\xa02024An act to add Chapter 22.6 (commencing with Section 22602) to Division 8 of the Business and Professions Code, and to add Sections 11547.6 and 11547.7 to the Government Code, relating to artificial intelligence.LEGISLATIVE COUNSEL'S\",\n",
       " 'ficial intelligence model was trained using a quantity of computing power sufficiently large that it could reasonably be expected to have similar or greater performance as an artificial intelligence model trained using a quantity of computing power greater than 10^26 integer or floating-point operations in 2024 as assessed using benchmarks commonly',\n",
       " 'n by the Legislature, for purposes of carrying out the provisions of this section.SEC. 5.\\xa0Section 11547.7 is added to the Government Code, to read:11547.7.\\xa0(a)\\xa0The Department of Technology shall commission consultants, pursuant to subdivision (b), to create a public cloud computing cluster, to be known as CalCompute, with the primary focus of condu',\n",
       " 't may possess hazardous capabilities.(f)\\xa0“Covered model” means an artificial intelligence model that meets either of the following criteria:(1)\\xa0The artificial\\n\\t\\t\\t\\t\\t\\t  intelligence model was trained using a quantity of computing power greater than 10^26 integer or floating-point\\n\\t\\t\\t\\t\\t\\t  operations.(2)\\xa0The artificial intelligence model was trained us']"
      ]
     },
     "execution_count": 14,
     "metadata": {},
     "output_type": "execute_result"
    }
   ],
   "source": [
    "vector_retrieval(query = \"what is the maximum allowable floating point operation per second this bill allows?\", top_k = 5, vector_index = embeddings, chunks = chunks)"
   ]
  },
  {
   "cell_type": "markdown",
   "metadata": {},
   "source": [
    "We now have a way to retrieve from the vector index given a query."
   ]
  },
  {
   "cell_type": "code",
   "execution_count": 15,
   "metadata": {},
   "outputs": [],
   "source": [
    "retrieved_chunks = vector_retrieval(query = \"what is the maximum allowable floating point operation per second this bill allows?\", top_k = 5, vector_index = embeddings, chunks = chunks)"
   ]
  },
  {
   "cell_type": "code",
   "execution_count": 16,
   "metadata": {},
   "outputs": [
    {
     "name": "stdout",
     "output_type": "stream",
     "text": [
      "Context 1:  duty exemption.(4) Unauthorized use of the hazardous capability of a covered model.(d) “Computing cluster” means a set of machines transitively connected by data center networking of over 100 gigabits per second that has a theoretical maximum computing capacity of at least 10^20 integer or floating-point operations per second and can be used for t\n",
      "Context 2: e Bill\n",
      "              No. 1047Introduced by Senator Wiener(Coauthors: Senators Roth, Rubio, and Stern)February 07, 2024An act to add Chapter 22.6 (commencing with Section 22602) to Division 8 of the Business and Professions Code, and to add Sections 11547.6 and 11547.7 to the Government Code, relating to artificial intelligence.LEGISLATIVE COUNSEL'S\n",
      "Context 3: ficial intelligence model was trained using a quantity of computing power sufficiently large that it could reasonably be expected to have similar or greater performance as an artificial intelligence model trained using a quantity of computing power greater than 10^26 integer or floating-point operations in 2024 as assessed using benchmarks commonly\n",
      "Context 4: n by the Legislature, for purposes of carrying out the provisions of this section.SEC. 5. Section 11547.7 is added to the Government Code, to read:11547.7. (a) The Department of Technology shall commission consultants, pursuant to subdivision (b), to create a public cloud computing cluster, to be known as CalCompute, with the primary focus of condu\n",
      "Context 5: t may possess hazardous capabilities.(f) “Covered model” means an artificial intelligence model that meets either of the following criteria:(1) The artificial\n",
      "\t\t\t\t\t\t  intelligence model was trained using a quantity of computing power greater than 10^26 integer or floating-point\n",
      "\t\t\t\t\t\t  operations.(2) The artificial intelligence model was trained us\n",
      "\n"
     ]
    }
   ],
   "source": [
    "# Lets add the top 5 documents to a string\n",
    "\n",
    "formatted_chunks = ''\n",
    "\n",
    "for i, chunk in enumerate(retrieved_chunks):\n",
    "    formatted_chunks += f\"Context {i+1}: {chunk}\\n\"\n",
    "\n",
    "print(formatted_chunks)"
   ]
  },
  {
   "cell_type": "markdown",
   "metadata": {},
   "source": [
    "### 3. Call Reasoning Generative Model - DeepSeek R1\n",
    "\n",
    "We will pass the finalized 5 chunks into an LLM to get our final answer."
   ]
  },
  {
   "cell_type": "code",
   "execution_count": 17,
   "metadata": {},
   "outputs": [
    {
     "name": "stdout",
     "output_type": "stream",
     "text": [
      "<think>\n",
      "Okay, let's tackle this question. The user is asking for the maximum allowable floating point operations per second (FLOPs) allowed for model training under the bill mentioned. The answer needs to be based on the provided contexts, and each claim must have a source from those contexts.\n",
      "\n",
      "First, I'll go through each context to find relevant mentions of FLOPs. \n",
      "\n",
      "Context 1 talks about a \"computing cluster\" defined as having a theoretical maximum capacity of at least 10^20 integer or floating-point operations per second. But this seems to be about the cluster's capacity, not the training limit. \n",
      "\n",
      "Context 2 is the bill introduction, no numbers here. \n",
      "\n",
      "Context 3 mentions training with computing power greater than 10^26 FLOPs in 2024. This looks like a threshold for determining if a model is covered. \n",
      "\n",
      "Context 4 discusses CalCompute, but no FLOPs number. \n",
      "\n",
      "Context 5 defines a \"covered model\" under two criteria. The first is training with more than 10^26 FLOPs. The second is similar performance to models trained with more than 10^26 FLOPs. \n",
      "\n",
      "Putting this together, the bill sets 10^26 FLOPs as the threshold. If a model is trained above this, it's a covered model and subject to regulations. So the maximum allowable without being a covered model would be just under 10^26. The answer should state that models trained with more than 10^26 are covered, hence the allowable maximum is 10^26. The sources are Context 3 and 5.\n",
      "</think>\n",
      "\n",
      "The maximum allowable floating point operations per second (FLOPs) for model training under the bill is **10^26 FLOPs**. Models trained with computing power exceeding this threshold are classified as \"covered models\" and subject to regulation. \n",
      "\n",
      "**Sources:**\n",
      "- Context 3 explicitly states that a model trained with \"greater than 10^26 integer or floating-point operations\" in 2024 qualifies as a covered model.  \n",
      "- Context 5 reiterates this threshold, defining a covered model as one trained with \"greater than 10^26 integer or floating-point operations\" (subdivision (f)(1)).  \n",
      "\n",
      "Thus, the bill prohibits training models above 10^26 FLOPs without compliance (§11547.7 and §22602)."
     ]
    }
   ],
   "source": [
    "query = \"What is the maximum allowable floating point operation per second this bill allows for model training?\"\n",
    "\n",
    "\n",
    "PROMPT = \"\"\"\n",
    "Answer the question: {query}. \n",
    "IMPORTANT RULE: Use the information provided to answer the question. For each claim in the answer provide a source from the information provided. \n",
    "Here is relevant information: {formatted_chunks} \n",
    "\"\"\"\n",
    "\n",
    "\n",
    "stream = client.chat.completions.create(\n",
    "    model=\"deepseek-ai/DeepSeek-R1\",\n",
    "    messages=[\n",
    "      {\"role\": \"system\", \"content\": \"You are a helpful chatbot.\"},\n",
    "      {\"role\": \"user\", \"content\": PROMPT.format(query=query, formatted_chunks=formatted_chunks)},\n",
    "    ],\n",
    "      stream=True,\n",
    ")\n",
    "\n",
    "response = ''\n",
    "\n",
    "for chunk in stream:\n",
    "  response += chunk.choices[0].delta.content or \"\"\n",
    "  print(chunk.choices[0].delta.content or \"\", end=\"\", flush=True)"
   ]
  },
  {
   "cell_type": "markdown",
   "metadata": {},
   "source": [
    "### What happens if the retreived chunks are not relevant?"
   ]
  },
  {
   "cell_type": "code",
   "execution_count": 18,
   "metadata": {},
   "outputs": [
    {
     "name": "stdout",
     "output_type": "stream",
     "text": [
      "<think>\n",
      "Okay, let's tackle this question. The user is asking for the circumference of the moon. But wait, the provided contexts don't seem to mention anything about the moon, its size, or circumference. Let me check each context again to be sure.\n",
      "\n",
      "Context 1 talks about duty exemptions and computing clusters, mentioning 10^20 operations. Context 2 is about a bill related to AI. Context 3 again discusses AI models and computing power of 10^26 operations. Context 4 mentions creating a cloud computing cluster called CalCompute. Context 5 defines a covered model based on computing power. \n",
      "\n",
      "None of these contexts provide any data about the moon's physical characteristics. The user specified to use only the given information and cite sources from the provided contexts. Since there's no relevant information here about the moon's circumference, I need to state that the answer isn't available in the given contexts. I should also list the contexts checked to show I reviewed them all.\n",
      "</think>\n",
      "\n",
      "The question about the circumference of the moon cannot be answered using the provided information. The contexts focus on legislative bills, definitions of computing clusters, and regulations for artificial intelligence models (e.g., computing power thresholds like 10^26 operations in Context 3 and 5). There is no mention of astronomical data, lunar measurements, or related topics in any of the provided contexts.  \n",
      "\n",
      "**Sources Checked:**  \n",
      "- Context 1: Computing clusters and hazardous capability definitions.  \n",
      "- Context 2: Legislative bill details (SB 1047).  \n",
      "- Context 3: AI model training benchmarks (10^26 operations).  \n",
      "- Context 4: CalCompute cloud cluster creation.  \n",
      "- Context 5: Criteria for \"covered models\" (computing power thresholds).  \n",
      "\n",
      "No relevant lunar data is included in these sources."
     ]
    }
   ],
   "source": [
    "query = \"What is the circumference of the moon?\"\n",
    "\n",
    "stream = client.chat.completions.create(\n",
    "    model=\"deepseek-ai/DeepSeek-R1\",\n",
    "    messages=[\n",
    "      {\"role\": \"system\", \"content\": \"You are a helpful chatbot.\"},\n",
    "      {\"role\": \"user\", \"content\": PROMPT.format(query=query, formatted_chunks=formatted_chunks)},\n",
    "    ],\n",
    "      stream=True,\n",
    ")\n",
    "\n",
    "response = ''\n",
    "\n",
    "for chunk in stream:\n",
    "  response += chunk.choices[0].delta.content or \"\"\n",
    "  print(chunk.choices[0].delta.content or \"\", end=\"\", flush=True)"
   ]
  }
 ],
 "metadata": {
  "colab": {
   "provenance": []
  },
  "kernelspec": {
   "display_name": "cookbook",
   "language": "python",
   "name": "python3"
  },
  "language_info": {
   "codemirror_mode": {
    "name": "ipython",
    "version": 3
   },
   "file_extension": ".py",
   "mimetype": "text/x-python",
   "name": "python",
   "nbconvert_exporter": "python",
   "pygments_lexer": "ipython3",
   "version": "3.12.8"
  }
 },
 "nbformat": 4,
 "nbformat_minor": 0
}
